{
 "cells": [
  {
   "cell_type": "markdown",
   "id": "54950871-8ad7-48c9-a4e2-6a271895742b",
   "metadata": {},
   "source": [
    "# SBI: Priors and preparation\n",
    "\n",
    "Here, a deep neural estimator is trained to provide a relationship between the parameters of a model (black box simulator) and selected descriptive statistics of the observed data.\n",
    "\n",
    "The procedure is split into following steps:\n",
    "1. Simulations using parameters drawn from the prior distributions\n",
    "2. Training the deep neural estimator\n",
    "3. Computing the posterior density with respect to the empirical observables.\n",
    "\n",
    "\n",
    "In this notebook we perform the first step."
   ]
  },
  {
   "cell_type": "code",
   "execution_count": 1,
   "id": "f8d43544-4e95-46a9-b5b3-dafd9b1a35bb",
   "metadata": {},
   "outputs": [],
   "source": [
    "%load_ext autoreload\n",
    "%autoreload 2"
   ]
  },
  {
   "cell_type": "code",
   "execution_count": 2,
   "id": "4330ea93-2b54-4dad-9073-8862b32edc69",
   "metadata": {},
   "outputs": [
    {
     "name": "stderr",
     "output_type": "stream",
     "text": [
      "/home/izaak/local_repos/megaloceros/tvb-inversion/env/lib/python3.8/site-packages/tqdm/auto.py:22: TqdmWarning: IProgress not found. Please update jupyter and ipywidgets. See https://ipywidgets.readthedocs.io/en/stable/user_install.html\n",
      "  from .autonotebook import tqdm as notebook_tqdm\n"
     ]
    }
   ],
   "source": [
    "import torch\n",
    "import numpy as np"
   ]
  },
  {
   "cell_type": "code",
   "execution_count": 3,
   "id": "7780d0f9-d136-4985-ad2b-1c83a857e7f0",
   "metadata": {},
   "outputs": [
    {
     "name": "stderr",
     "output_type": "stream",
     "text": [
      "/home/izaak/local_repos/megaloceros/tvb-inversion/env/lib/python3.8/site-packages/tvb/datatypes/surfaces.py:64: UserWarning: Geodesic distance module is unavailable; some functionality for surfaces will be unavailable.\n",
      "  warnings.warn(msg)\n"
     ]
    }
   ],
   "source": [
    "from tvb.simulator.lab import *"
   ]
  },
  {
   "cell_type": "code",
   "execution_count": 4,
   "id": "f72ba677-eb04-42a4-a25d-61d869ff973d",
   "metadata": {},
   "outputs": [],
   "source": [
    "from tvb_inversion.sbi import Prior\n",
    "from tvb_inversion.sbi import EstimatorSBI"
   ]
  },
  {
   "cell_type": "code",
   "execution_count": 5,
   "id": "8c8b519f-ee8f-4f47-b1e5-0816dd76b902",
   "metadata": {},
   "outputs": [],
   "source": [
    "from tvb_inversion.utils import data_path, run_local\n",
    "from tvb_inversion.parameters import SimSeq\n",
    "from tvb_inversion.sbi.demo import BoldFCDForSBI\n",
    "from tvb.simulator.backend.nb_mpr import NbMPRBackend"
   ]
  },
  {
   "cell_type": "markdown",
   "id": "86c1c251-7b64-4c10-a9c4-f0286e28e980",
   "metadata": {},
   "source": [
    "The simulation is defined by the TVB `Simulator` instance, for local and cluster execution we need a function which prepares it for us given the values of parameters."
   ]
  },
  {
   "cell_type": "code",
   "execution_count": 15,
   "id": "5f6a85c1-f323-4bee-ad2c-d8fe8432721d",
   "metadata": {},
   "outputs": [
    {
     "name": "stdout",
     "output_type": "stream",
     "text": [
      "WARNING  File 'average_orientations' not found in ZIP.\n",
      "WARNING  File 'cortical' not found in ZIP.\n",
      "WARNING  File 'hemispheres' not found in ZIP.\n",
      "WARNING  File 'areas' not found in ZIP.\n"
     ]
    }
   ],
   "source": [
    "conn = connectivity.Connectivity.from_file(data_path('demo_connectivity.zip'))\n",
    "\n",
    "sim = simulator.Simulator(\n",
    "    model=models.MontbrioPazoRoxin(\n",
    "        eta=np.r_[-4.6],\n",
    "        J=np.r_[14.5],\n",
    "        Delta=np.r_[0.7],\n",
    "        tau=np.r_[1],\n",
    "    ),\n",
    "    connectivity=conn,\n",
    "    coupling=coupling.Linear(\n",
    "        a=np.r_[2.45]\n",
    "    ),\n",
    "    conduction_speed=conn.speed.item(),\n",
    "    integrator=integrators.HeunStochastic(\n",
    "        dt=0.01,\n",
    "        noise=noise.Additive(\n",
    "            nsig=np.r_[0.035, 0.035 * 2],\n",
    "            noise_seed=42\n",
    "        )\n",
    "    ),\n",
    "    monitors=[monitors.TemporalAverage(period=0.1)],\n",
    "    simulation_length=3e3 # decreased for demo purposes\n",
    ")"
   ]
  },
  {
   "cell_type": "markdown",
   "id": "8061925d-dc6f-40ed-98b1-7dbd61196602",
   "metadata": {},
   "source": [
    "Now we define the prior distribution over the parameters. Here, it is just a one-dimensional prior on single prior over the parameter `coupling.a`. The `Distribution` can be any class supporting the `.sample` and `.log_prob()` methods, e.g. the PyTorch distribution. Just make sure the dimension of each sample is equal the number of parameters (here 1). See docs on examples for scenarios with multiple parameters."
   ]
  },
  {
   "cell_type": "code",
   "execution_count": 16,
   "id": "0267f285-1026-49ae-8ac6-385de624590e",
   "metadata": {},
   "outputs": [
    {
     "data": {
      "text/plain": [
       "['coupling.a'], Uniform(low: 0.10000000149011612, high: 1.2000000476837158)"
      ]
     },
     "execution_count": 16,
     "metadata": {},
     "output_type": "execute_result"
    }
   ],
   "source": [
    "prior = Prior(['coupling.a'], torch.distributions.Uniform(0.1, 1.2))\n",
    "prior"
   ]
  },
  {
   "cell_type": "markdown",
   "id": "defdbc8b-276b-48f3-a9f5-ab1e704db9bc",
   "metadata": {},
   "source": [
    "We can now sample from the prior to get the sequence of simulations we need to execute (we can also save this for later re-use etc.). Here, for demonstration purposes we choose a very low number of four. In realistic scenarios, one has to run thousands of simulations from the prior."
   ]
  },
  {
   "cell_type": "code",
   "execution_count": 17,
   "id": "6e805b77-31ea-4e41-8fb6-1e616ab2c85b",
   "metadata": {},
   "outputs": [],
   "source": [
    "seq = prior.generate_sim_seq(sim, 4)"
   ]
  },
  {
   "cell_type": "code",
   "execution_count": 18,
   "id": "33437a12-6783-4d40-a82d-7ea6bd483041",
   "metadata": {},
   "outputs": [],
   "source": [
    "import matplotlib.pylab as plt"
   ]
  },
  {
   "cell_type": "code",
   "execution_count": 19,
   "id": "1b318337-845f-44f3-ad74-9ed4b708ed42",
   "metadata": {},
   "outputs": [
    {
     "data": {
      "image/png": "[encoded data removed]",
      "text/plain": [
       "<Figure size 640x480 with 1 Axes>"
      ]
     },
     "metadata": {},
     "output_type": "display_data"
    }
   ],
   "source": [
    "params = np.array(seq.values).squeeze()\n",
    "plt.hist(params);"
   ]
  },
  {
   "cell_type": "markdown",
   "id": "f5b08198-6d15-4263-a361-3e59598c51f3",
   "metadata": {},
   "source": [
    "Next we need to define the summary statistics to be extracted from the simulated time-series. Custom metrics can be defined and wrapped in the callable `parameters.Metric`. Here we use the pre-defined example `demo.BoldFCDForSBI` which computes bold signal from the provided time-average time series and a set of useful metrics such as variability of functional connectivity dynamics and others."
   ]
  },
  {
   "cell_type": "markdown",
   "id": "a6d4b162-efc1-40ab-9729-fe3025593400",
   "metadata": {},
   "source": [
    "Executing the large number of simulations can take a long time, here we perform local parallel execution, see docs for distributed execution examples."
   ]
  },
  {
   "cell_type": "code",
   "execution_count": 20,
   "id": "ef74829d-39d1-4098-b40b-5d5c3e48bae7",
   "metadata": {},
   "outputs": [
    {
     "name": "stderr",
     "output_type": "stream",
     "text": [
      "/home/izaak/local_repos/megaloceros/tvb-inversion/env/lib/python3.8/site-packages/tvb/datatypes/surfaces.py:64: UserWarning: Geodesic distance module is unavailable; some functionality for surfaces will be unavailable.\n",
      "  warnings.warn(msg)\n",
      "/home/izaak/local_repos/megaloceros/tvb-inversion/env/lib/python3.8/site-packages/tvb/datatypes/surfaces.py:64: UserWarning: Geodesic distance module is unavailable; some functionality for surfaces will be unavailable.\n",
      "  warnings.warn(msg)\n",
      "/home/izaak/local_repos/megaloceros/tvb-inversion/env/lib/python3.8/site-packages/tvb/datatypes/surfaces.py:64: UserWarning: Geodesic distance module is unavailable; some functionality for surfaces will be unavailable.\n",
      "  warnings.warn(msg)\n",
      "/home/izaak/local_repos/megaloceros/tvb-inversion/env/lib/python3.8/site-packages/tvb/datatypes/surfaces.py:64: UserWarning: Geodesic distance module is unavailable; some functionality for surfaces will be unavailable.\n",
      "  warnings.warn(msg)\n"
     ]
    }
   ],
   "source": [
    "metrics = [BoldFCDForSBI(win_len=3)]\n",
    "run_local(seq, metrics, backend=NbMPRBackend, checkpoint_dir='test_run', filename='results.npy')"
   ]
  },
  {
   "cell_type": "markdown",
   "id": "05330775-fc9d-4d5b-b85d-bf6c509690d3",
   "metadata": {},
   "source": [
    "When the simulations are done, we can extract the summary statistics with the following code. "
   ]
  },
  {
   "cell_type": "code",
   "execution_count": 21,
   "id": "429690ed-c052-47e1-845e-0500ffc38c39",
   "metadata": {},
   "outputs": [],
   "source": [
    "estimator = EstimatorSBI(prior, seq=seq, metrics=metrics)"
   ]
  },
  {
   "cell_type": "code",
   "execution_count": 22,
   "id": "99e8cacc-669f-4a1f-8293-98963e0d0110",
   "metadata": {},
   "outputs": [
    {
     "data": {
      "text/html": [
       "<div>\n",
       "<style scoped>\n",
       "    .dataframe tbody tr th:only-of-type {\n",
       "        vertical-align: middle;\n",
       "    }\n",
       "\n",
       "    .dataframe tbody tr th {\n",
       "        vertical-align: top;\n",
       "    }\n",
       "\n",
       "    .dataframe thead th {\n",
       "        text-align: right;\n",
       "    }\n",
       "</style>\n",
       "<table border=\"1\" class=\"dataframe\">\n",
       "  <thead>\n",
       "    <tr style=\"text-align: right;\">\n",
       "      <th></th>\n",
       "      <th>HOMO_FC</th>\n",
       "      <th>FCD_STACK_STD_INTER_TENS</th>\n",
       "      <th>FCD_SUBJ_DIFF_VAR_OV_TENS</th>\n",
       "      <th>FC_SUM</th>\n",
       "      <th>FCD_SUM</th>\n",
       "    </tr>\n",
       "  </thead>\n",
       "  <tbody>\n",
       "    <tr>\n",
       "      <th>0</th>\n",
       "      <td>0.807541</td>\n",
       "      <td>0.383083</td>\n",
       "      <td>0.038413</td>\n",
       "      <td>4954.442188</td>\n",
       "      <td>6.866754</td>\n",
       "    </tr>\n",
       "    <tr>\n",
       "      <th>1</th>\n",
       "      <td>0.801354</td>\n",
       "      <td>0.398649</td>\n",
       "      <td>0.045623</td>\n",
       "      <td>4374.792280</td>\n",
       "      <td>5.232227</td>\n",
       "    </tr>\n",
       "    <tr>\n",
       "      <th>2</th>\n",
       "      <td>0.818952</td>\n",
       "      <td>0.395458</td>\n",
       "      <td>0.040640</td>\n",
       "      <td>5664.164392</td>\n",
       "      <td>3.097200</td>\n",
       "    </tr>\n",
       "    <tr>\n",
       "      <th>3</th>\n",
       "      <td>NaN</td>\n",
       "      <td>NaN</td>\n",
       "      <td>NaN</td>\n",
       "      <td>NaN</td>\n",
       "      <td>NaN</td>\n",
       "    </tr>\n",
       "  </tbody>\n",
       "</table>\n",
       "</div>"
      ],
      "text/plain": [
       "    HOMO_FC  FCD_STACK_STD_INTER_TENS  FCD_SUBJ_DIFF_VAR_OV_TENS       FC_SUM  \\\n",
       "0  0.807541                  0.383083                   0.038413  4954.442188   \n",
       "1  0.801354                  0.398649                   0.045623  4374.792280   \n",
       "2  0.818952                  0.395458                   0.040640  5664.164392   \n",
       "3       NaN                       NaN                        NaN          NaN   \n",
       "\n",
       "    FCD_SUM  \n",
       "0  6.866754  \n",
       "1  5.232227  \n",
       "2  3.097200  \n",
       "3       NaN  "
      ]
     },
     "execution_count": 22,
     "metadata": {},
     "output_type": "execute_result"
    }
   ],
   "source": [
    "summ_stats = estimator.load_summary_stats('results.npy')\n",
    "summ_stats"
   ]
  },
  {
   "cell_type": "markdown",
   "id": "fccbd110-0152-4d59-9a57-9c265cbb5292",
   "metadata": {},
   "source": [
    "The last simulation didn't converge (numerical issues), so we can either remove that sample, or re-run that point with smaller integration dt. \n",
    "\n",
    "In the next notebook we pick up the workflow with precomputed samples."
   ]
  }
 ],
 "metadata": {
  "kernelspec": {
   "display_name": "Python 3 (ipykernel)",
   "language": "python",
   "name": "python3"
  },
  "language_info": {
   "codemirror_mode": {
    "name": "ipython",
    "version": 3
   },
   "file_extension": ".py",
   "mimetype": "text/x-python",
   "name": "python",
   "nbconvert_exporter": "python",
   "pygments_lexer": "ipython3",
   "version": "3.8.10"
  }
 },
 "nbformat": 4,
 "nbformat_minor": 5
}
