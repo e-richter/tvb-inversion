{
 "cells": [
  {
   "cell_type": "markdown",
   "id": "54950871-8ad7-48c9-a4e2-6a271895742b",
   "metadata": {},
   "source": [
    "# SBI: Priors and preparation\n",
    "\n",
    "Here, a deep neural estimator is trained to provide a relationship between the parameters of a model (black box simulator) and selected descriptive statistics of the observed data.\n",
    "\n",
    "The procedure is split into following steps:\n",
    "1. Simulations using parameters drawn from the prior distributions\n",
    "2. Training the deep neural estimator\n",
    "3. Computing the posterior density with respect to the empirical observables.\n",
    "\n",
    "\n",
    "In this notebook we perform the first step."
   ]
  },
  {
   "cell_type": "code",
   "execution_count": 1,
   "id": "f8d43544-4e95-46a9-b5b3-dafd9b1a35bb",
   "metadata": {},
   "outputs": [],
   "source": [
    "%load_ext autoreload\n",
    "%autoreload 2"
   ]
  },
  {
   "cell_type": "code",
   "execution_count": 2,
   "id": "8f09a74b-75f9-4c77-a563-be0c2d0c1ef0",
   "metadata": {},
   "outputs": [],
   "source": [
    "import seaborn as sns"
   ]
  },
  {
   "cell_type": "code",
   "execution_count": 2,
   "id": "4330ea93-2b54-4dad-9073-8862b32edc69",
   "metadata": {},
   "outputs": [
    {
     "name": "stderr",
     "output_type": "stream",
     "text": [
      "/home/izaak/local_repos/nostromo/tvb-inversion/env/lib/python3.8/site-packages/tqdm/auto.py:22: TqdmWarning: IProgress not found. Please update jupyter and ipywidgets. See https://ipywidgets.readthedocs.io/en/stable/user_install.html\n",
      "  from .autonotebook import tqdm as notebook_tqdm\n"
     ]
    }
   ],
   "source": [
    "import torch\n",
    "import numpy as np"
   ]
  },
  {
   "cell_type": "code",
   "execution_count": 3,
   "id": "7780d0f9-d136-4985-ad2b-1c83a857e7f0",
   "metadata": {},
   "outputs": [],
   "source": [
    "from tvb.simulator.lab import *"
   ]
  },
  {
   "cell_type": "code",
   "execution_count": 4,
   "id": "f72ba677-eb04-42a4-a25d-61d869ff973d",
   "metadata": {},
   "outputs": [],
   "source": [
    "from tvb_inversion.sbi import Prior\n",
    "from tvb_inversion.sbi import EstimatorSBI"
   ]
  },
  {
   "cell_type": "code",
   "execution_count": 5,
   "id": "8c8b519f-ee8f-4f47-b1e5-0816dd76b902",
   "metadata": {},
   "outputs": [],
   "source": [
    "from tvb_inversion.utils import data_path, run_local\n",
    "from tvb_inversion.parameters import SimSeq\n",
    "from tvb_inversion.sbi.demo import BoldFCDForSBI\n",
    "from tvb.simulator.backend.nb_mpr import NbMPRBackend"
   ]
  },
  {
   "cell_type": "markdown",
   "id": "86c1c251-7b64-4c10-a9c4-f0286e28e980",
   "metadata": {},
   "source": [
    "The simulation is defined by the TVB `Simulator` instance, for local and cluster execution we need a function which prepares it for us given the values of parameters."
   ]
  },
  {
   "cell_type": "code",
   "execution_count": 8,
   "id": "5f6a85c1-f323-4bee-ad2c-d8fe8432721d",
   "metadata": {},
   "outputs": [],
   "source": [
    "# load, rescale and configure connectivity \n",
    "weights = np.loadtxt(data_path('SC_Schaefer7NW100p_nolog10.txt'))\n",
    "magic_number = 124538.470647693\n",
    "weights_orig = weights / magic_number\n",
    "conn = connectivity.Connectivity(\n",
    "    weights=weights_orig,\n",
    "    region_labels=np.array(np.zeros(np.shape(weights_orig)[0]), dtype='<U128'),\n",
    "    tract_lengths=np.zeros(np.shape(weights_orig)),\n",
    "    areas=np.zeros(np.shape(weights_orig)[0]),\n",
    "    speed=np.array(np.Inf, dtype=float),\n",
    "    centres=np.zeros(np.shape(weights_orig)[0])\n",
    ")\n",
    "\n",
    "sim = simulator.Simulator(\n",
    "    model=models.MontbrioPazoRoxin(\n",
    "        eta=np.r_[-4.6],\n",
    "        J=np.r_[14.5],\n",
    "        Delta=np.r_[0.7],\n",
    "        tau=np.r_[1],\n",
    "    ),\n",
    "    connectivity=conn,\n",
    "    coupling=coupling.Linear(\n",
    "        a=np.r_[2.45]\n",
    "    ),\n",
    "    conduction_speed=conn.speed.item(),\n",
    "    integrator=integrators.HeunStochastic(\n",
    "        dt=0.005,\n",
    "        noise=noise.Additive(\n",
    "            nsig=np.r_[0.035, 0.035 * 2],\n",
    "            noise_seed=42\n",
    "        )\n",
    "    ),\n",
    "    monitors=[monitors.TemporalAverage(period=0.1)],\n",
    "    simulation_length=3e3\n",
    ")"
   ]
  },
  {
   "cell_type": "markdown",
   "id": "8061925d-dc6f-40ed-98b1-7dbd61196602",
   "metadata": {},
   "source": [
    "Now we define the prior distribution over the parameters. Here, it is just a one-dimensional prior on single prior over the parameter `coupling.a`. The `Distribution` can be any class supporting the `.sample` and `.log_prob()` methods, e.g. the PyTorch distribution. Just make sure the dimension of each sample is equal the number of parameters (here 1). See docs on examples for scenarios with multiple parameters."
   ]
  },
  {
   "cell_type": "code",
   "execution_count": 9,
   "id": "0267f285-1026-49ae-8ac6-385de624590e",
   "metadata": {},
   "outputs": [
    {
     "data": {
      "text/plain": [
       "['coupling.a'], Uniform(low: 1.5, high: 3.200000047683716)"
      ]
     },
     "execution_count": 9,
     "metadata": {},
     "output_type": "execute_result"
    }
   ],
   "source": [
    "prior = Prior(['coupling.a'], torch.distributions.Uniform(1.5, 3.2))\n",
    "prior"
   ]
  },
  {
   "cell_type": "markdown",
   "id": "defdbc8b-276b-48f3-a9f5-ab1e704db9bc",
   "metadata": {},
   "source": [
    "We can now sample from the prior to get the sequence of simulations we need to execute (we can also save this for later re-use etc.)."
   ]
  },
  {
   "cell_type": "code",
   "execution_count": 10,
   "id": "6e805b77-31ea-4e41-8fb6-1e616ab2c85b",
   "metadata": {},
   "outputs": [],
   "source": [
    "seq = prior.generate_sim_seq(sim, 4)"
   ]
  },
  {
   "cell_type": "code",
   "execution_count": 12,
   "id": "33437a12-6783-4d40-a82d-7ea6bd483041",
   "metadata": {},
   "outputs": [],
   "source": [
    "import matplotlib.pylab as plt"
   ]
  },
  {
   "cell_type": "code",
   "execution_count": 15,
   "id": "1b318337-845f-44f3-ad74-9ed4b708ed42",
   "metadata": {},
   "outputs": [
    {
     "data": {
      "image/png": "[encoded data removed]",
      "text/plain": [
       "<Figure size 640x480 with 1 Axes>"
      ]
     },
     "metadata": {},
     "output_type": "display_data"
    }
   ],
   "source": [
    "params = np.array(seq.values).squeeze()\n",
    "plt.hist(params);"
   ]
  },
  {
   "cell_type": "markdown",
   "id": "f5b08198-6d15-4263-a361-3e59598c51f3",
   "metadata": {},
   "source": [
    "Next we need to define the summary statistics to be extracted from the simulated time-series. Custom metrics can be defined and wrapped in the callable `parameters.Metric`. Here we use the pre-defined example `demo.BoldFCDForSBI` which computes bold signal from the provided time-average time series and a set of useful metrics such as variability of functional connectivity dynamics and others."
   ]
  },
  {
   "cell_type": "markdown",
   "id": "a6d4b162-efc1-40ab-9729-fe3025593400",
   "metadata": {},
   "source": [
    "Executing the large number of simulations can take a long time, here we perform local parallel execution, see docs for distributed execution examples."
   ]
  },
  {
   "cell_type": "code",
   "execution_count": 16,
   "id": "ef74829d-39d1-4098-b40b-5d5c3e48bae7",
   "metadata": {},
   "outputs": [
    {
     "name": "stdout",
     "output_type": "stream",
     "text": [
      "2022-10-12 11:26:48,247 - INFO - tvb.simulator.noise - White noise configured with dt=0.005\n",
      "2022-10-12 11:26:48,251 - ERROR - tvb.simulator.simulator - Bad Simulator.integrator.noise.nsig shape: (2, 1, 1)\n",
      "2022-10-12 11:26:48,253 - INFO - tvb.simulator.history - history has n_time=1 n_cvar=2 n_node=100 n_nmode=1, requires 0.60 MB\n",
      "2022-10-12 11:26:48,253 - INFO - tvb.simulator.history - sparse history has n_nnzw=9146, i.e. 91.46 % sparse\n",
      "2022-10-12 11:26:48,306 - INFO - tvb.simulator.noise - White noise configured with dt=0.005\n",
      "2022-10-12 11:26:48,307 - ERROR - tvb.simulator.simulator - Bad Simulator.integrator.noise.nsig shape: (2, 1, 1)\n",
      "2022-10-12 11:26:48,307 - INFO - tvb.simulator.noise - White noise configured with dt=0.005\n",
      "2022-10-12 11:26:48,308 - ERROR - tvb.simulator.simulator - Bad Simulator.integrator.noise.nsig shape: (2, 1, 1)\n",
      "2022-10-12 11:26:48,309 - INFO - tvb.simulator.history - history has n_time=1 n_cvar=2 n_node=100 n_nmode=1, requires 0.60 MB\n",
      "2022-10-12 11:26:48,309 - INFO - tvb.simulator.history - sparse history has n_nnzw=9146, i.e. 91.46 % sparse\n",
      "2022-10-12 11:26:48,309 - INFO - tvb.simulator.history - history has n_time=1 n_cvar=2 n_node=100 n_nmode=1, requires 0.60 MB\n",
      "2022-10-12 11:26:48,310 - INFO - tvb.simulator.history - sparse history has n_nnzw=9146, i.e. 91.46 % sparse\n",
      "2022-10-12 11:26:48,315 - INFO - tvb.simulator.noise - White noise configured with dt=0.005\n",
      "2022-10-12 11:26:48,316 - ERROR - tvb.simulator.simulator - Bad Simulator.integrator.noise.nsig shape: (2, 1, 1)\n",
      "2022-10-12 11:26:48,318 - INFO - tvb.simulator.history - history has n_time=1 n_cvar=2 n_node=100 n_nmode=1, requires 0.60 MB\n",
      "2022-10-12 11:26:48,318 - INFO - tvb.simulator.history - sparse history has n_nnzw=9146, i.e. 91.46 % sparse\n"
     ]
    }
   ],
   "source": [
    "metrics = [BoldFCDForSBI(win_len=3)]\n",
    "run_local(seq, metrics, backend=NbMPRBackend, checkpoint_dir='test_run', filename='results.npy')"
   ]
  },
  {
   "cell_type": "code",
   "execution_count": 17,
   "id": "429690ed-c052-47e1-845e-0500ffc38c39",
   "metadata": {},
   "outputs": [],
   "source": [
    "estimator = EstimatorSBI(prior, seq, metrics)"
   ]
  },
  {
   "cell_type": "code",
   "execution_count": 18,
   "id": "99e8cacc-669f-4a1f-8293-98963e0d0110",
   "metadata": {},
   "outputs": [
    {
     "data": {
      "text/html": [
       "<div>\n",
       "<style scoped>\n",
       "    .dataframe tbody tr th:only-of-type {\n",
       "        vertical-align: middle;\n",
       "    }\n",
       "\n",
       "    .dataframe tbody tr th {\n",
       "        vertical-align: top;\n",
       "    }\n",
       "\n",
       "    .dataframe thead th {\n",
       "        text-align: right;\n",
       "    }\n",
       "</style>\n",
       "<table border=\"1\" class=\"dataframe\">\n",
       "  <thead>\n",
       "    <tr style=\"text-align: right;\">\n",
       "      <th></th>\n",
       "      <th>HOMO_FC</th>\n",
       "      <th>FCD_STACK_STD_INTER_TENS</th>\n",
       "      <th>FCD_SUBJ_DIFF_VAR_OV_TENS</th>\n",
       "    </tr>\n",
       "  </thead>\n",
       "  <tbody>\n",
       "    <tr>\n",
       "      <th>0</th>\n",
       "      <td>0.691809</td>\n",
       "      <td>0.383053</td>\n",
       "      <td>0.037468</td>\n",
       "    </tr>\n",
       "    <tr>\n",
       "      <th>1</th>\n",
       "      <td>0.637510</td>\n",
       "      <td>0.395431</td>\n",
       "      <td>0.039941</td>\n",
       "    </tr>\n",
       "    <tr>\n",
       "      <th>2</th>\n",
       "      <td>0.671735</td>\n",
       "      <td>0.389102</td>\n",
       "      <td>0.040887</td>\n",
       "    </tr>\n",
       "    <tr>\n",
       "      <th>3</th>\n",
       "      <td>0.902859</td>\n",
       "      <td>0.404654</td>\n",
       "      <td>0.038128</td>\n",
       "    </tr>\n",
       "  </tbody>\n",
       "</table>\n",
       "</div>"
      ],
      "text/plain": [
       "    HOMO_FC  FCD_STACK_STD_INTER_TENS  FCD_SUBJ_DIFF_VAR_OV_TENS\n",
       "0  0.691809                  0.383053                   0.037468\n",
       "1  0.637510                  0.395431                   0.039941\n",
       "2  0.671735                  0.389102                   0.040887\n",
       "3  0.902859                  0.404654                   0.038128"
      ]
     },
     "execution_count": 18,
     "metadata": {},
     "output_type": "execute_result"
    }
   ],
   "source": [
    "summ_stats = estimator.load_summary_stats('results.npy')\n",
    "summ_stats"
   ]
  },
  {
   "cell_type": "code",
   "execution_count": 19,
   "id": "eb9d1833-7b76-4270-8563-d4745faf2dc2",
   "metadata": {},
   "outputs": [
    {
     "name": "stderr",
     "output_type": "stream",
     "text": [
      "/home/izaak/local_repos/nostromo/tvb-inversion/env/lib/python3.8/site-packages/sbi/neural_nets/flow.py:108: UserWarning: In one-dimensional output space, this flow is limited to Gaussians\n",
      "  warn(f\"In one-dimensional output space, this flow is limited to Gaussians\")\n"
     ]
    },
    {
     "name": "stdout",
     "output_type": "stream",
     "text": [
      "Neural network successfully converged after 123 epochs.\n"
     ]
    }
   ],
   "source": [
    "posterior = estimator.train(summ_stats.values)"
   ]
  },
  {
   "cell_type": "code",
   "execution_count": 20,
   "id": "9544a552-3377-4ec6-b5c3-8edf26b7829f",
   "metadata": {},
   "outputs": [
    {
     "name": "stdout",
     "output_type": "stream",
     "text": [
      "Posterior conditional density p(θ|x) (amortized).\n",
      "\n",
      "This DirectPosterior-object was obtained with a SNPE-class method using a flow.\n",
      "It allows to .sample() and .log_prob() the posterior and wraps the output of the .net to avoid leakage into regions with 0 prior probability.\n"
     ]
    }
   ],
   "source": [
    "print(posterior)"
   ]
  },
  {
   "cell_type": "markdown",
   "id": "047d6f64-6977-41d4-8796-b99a1e3ff8b2",
   "metadata": {},
   "source": [
    "Let's now generate an empirical observable "
   ]
  },
  {
   "cell_type": "code",
   "execution_count": 21,
   "id": "df4d27f9-c4ac-4309-a184-d4b0f56f5c3c",
   "metadata": {},
   "outputs": [
    {
     "name": "stdout",
     "output_type": "stream",
     "text": [
      "  ERROR  Bad Simulator.integrator.noise.nsig shape: (2, 1, 1)\n",
      "2022-10-12 11:29:48,374 - INFO - tvb.simulator.noise - White noise configured with dt=0.005\n",
      "2022-10-12 11:29:48,374 - ERROR - tvb.simulator.simulator - Bad Simulator.integrator.noise.nsig shape: (2, 1, 1)\n",
      "2022-10-12 11:29:48,375 - INFO - tvb.simulator.history - history has n_time=1 n_cvar=2 n_node=100 n_nmode=1, requires 0.60 MB\n",
      "2022-10-12 11:29:48,376 - INFO - tvb.simulator.history - sparse history has n_nnzw=9146, i.e. 91.46 % sparse\n"
     ]
    },
    {
     "data": {
      "text/html": [
       "<div>\n",
       "<style scoped>\n",
       "    .dataframe tbody tr th:only-of-type {\n",
       "        vertical-align: middle;\n",
       "    }\n",
       "\n",
       "    .dataframe tbody tr th {\n",
       "        vertical-align: top;\n",
       "    }\n",
       "\n",
       "    .dataframe thead th {\n",
       "        text-align: right;\n",
       "    }\n",
       "</style>\n",
       "<table border=\"1\" class=\"dataframe\">\n",
       "  <thead>\n",
       "    <tr style=\"text-align: right;\">\n",
       "      <th></th>\n",
       "      <th>HOMO_FC</th>\n",
       "      <th>FCD_STACK_STD_INTER_TENS</th>\n",
       "      <th>FCD_SUBJ_DIFF_VAR_OV_TENS</th>\n",
       "    </tr>\n",
       "  </thead>\n",
       "  <tbody>\n",
       "    <tr>\n",
       "      <th>0</th>\n",
       "      <td>0.803876</td>\n",
       "      <td>0.383541</td>\n",
       "      <td>0.034001</td>\n",
       "    </tr>\n",
       "  </tbody>\n",
       "</table>\n",
       "</div>"
      ],
      "text/plain": [
       "    HOMO_FC  FCD_STACK_STD_INTER_TENS  FCD_SUBJ_DIFF_VAR_OV_TENS\n",
       "0  0.803876                  0.383541                   0.034001"
      ]
     },
     "execution_count": 21,
     "metadata": {},
     "output_type": "execute_result"
    }
   ],
   "source": [
    "seq = prior.generate_sim_seq(sim, 1) # \"empirical\" data\n",
    "\n",
    "run_local(seq, metrics, backend=NbMPRBackend, filename='results_empirical.npy')\n",
    "\n",
    "summ_stats_empirical = estimator.load_summary_stats('results_empirical.npy')\n",
    "summ_stats_empirical"
   ]
  },
  {
   "cell_type": "code",
   "execution_count": 22,
   "id": "fbe92126-2eff-47bd-8458-a76fe6b6729d",
   "metadata": {},
   "outputs": [
    {
     "name": "stderr",
     "output_type": "stream",
     "text": [
      "Drawing 100 posterior samples: 3217it [00:00, 71063.69it/s]                                                            \n"
     ]
    }
   ],
   "source": [
    "posterior_samples = posterior.sample((100,),torch.as_tensor(summ_stats_empirical.to_numpy()))"
   ]
  },
  {
   "cell_type": "code",
   "execution_count": 32,
   "id": "4bd1edbc-633d-47cd-840b-f1c3acfd5ceb",
   "metadata": {},
   "outputs": [
    {
     "data": {
      "text/plain": [
       "<matplotlib.collections.PathCollection at 0x7fdb5558aeb0>"
      ]
     },
     "execution_count": 32,
     "metadata": {},
     "output_type": "execute_result"
    },
    {
     "data": {
      "image/png": "[encoded data removed]",
      "text/plain": [
       "<Figure size 640x480 with 1 Axes>"
      ]
     },
     "metadata": {},
     "output_type": "display_data"
    }
   ],
   "source": [
    "plt.violinplot(posterior_samples.numpy());\n",
    "plt.scatter(1.,seq.values[0][0], c='r')"
   ]
  }
 ],
 "metadata": {
  "kernelspec": {
   "display_name": "Python 3 (ipykernel)",
   "language": "python",
   "name": "python3"
  },
  "language_info": {
   "codemirror_mode": {
    "name": "ipython",
    "version": 3
   },
   "file_extension": ".py",
   "mimetype": "text/x-python",
   "name": "python",
   "nbconvert_exporter": "python",
   "pygments_lexer": "ipython3",
   "version": "3.8.14"
  }
 },
 "nbformat": 4,
 "nbformat_minor": 5
}
