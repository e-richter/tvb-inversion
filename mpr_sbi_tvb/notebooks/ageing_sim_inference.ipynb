{
 "cells": [
  {
   "cell_type": "markdown",
   "metadata": {},
   "source": [
    "## Simulation BASED INFERENCE for JULICH dataset"
   ]
  },
  {
   "cell_type": "markdown",
   "metadata": {},
   "source": [
    "Upload basic packages"
   ]
  },
  {
   "cell_type": "code",
   "execution_count": 1,
   "metadata": {
    "tags": []
   },
   "outputs": [],
   "source": [
    "import os\n",
    "import sys\n",
    "import time\n",
    "import errno\n",
    "import time\n",
    "import timeit\n",
    "\n",
    "\n",
    "import numpy as np\n",
    "import scipy as scp\n",
    "\n",
    "\n",
    "import numba\n",
    "from numba import jit\n",
    "\n",
    "import matplotlib.pyplot as plt\n",
    "from matplotlib import colors, cm"
   ]
  },
  {
   "cell_type": "code",
   "execution_count": 2,
   "metadata": {
    "tags": []
   },
   "outputs": [],
   "source": [
    "from sklearn import linear_model"
   ]
  },
  {
   "cell_type": "markdown",
   "metadata": {},
   "source": [
    "Upload TVB packages"
   ]
  },
  {
   "cell_type": "code",
   "execution_count": 3,
   "metadata": {},
   "outputs": [
    {
     "name": "stdout",
     "output_type": "stream",
     "text": [
      "2021-06-14 13:06:34,991 - WARNING - tvb.simulator.common - psutil module not available: no warnings will be issued when a\n",
      "    simulation may require more memory than available\n",
      "   INFO  log level set to INFO\n"
     ]
    },
    {
     "name": "stderr",
     "output_type": "stream",
     "text": [
      "/home/izaak/local_repos/nostromo/tvb-inversion/mpr_sbi_tvb/env/lib/python3.8/site-packages/tvb/datatypes/surfaces.py:61: UserWarning: Geodesic distance module is unavailable; some functionality for surfaces will be unavailable.\n",
      "  warnings.warn(msg)\n"
     ]
    }
   ],
   "source": [
    "import numpy as np\n",
    "import matplotlib.pyplot as plt\n",
    "#import utils\n",
    "from matplotlib import rcParams\n",
    "rcParams['figure.figsize'] = 15,6\n",
    "from sbi_tvb import analysis, simulation\n",
    "from tvb.datatypes.time_series import *\n",
    "import socket\n",
    "from datetime import datetime\n",
    "from multiprocessing import Pool\n",
    "from functools import partial\n",
    "import os\n",
    "from scipy.io.matlab import loadmat\n",
    "from tvb.simulator.lab import *\n",
    "#import ipywidgets as widgets\n",
    "# Pay attention that it crashes with any other interactive package\n",
    "#from tvb.simulator.plot.phase_plane_interactive import PhasePlaneInteractive\n",
    "LOG = get_logger('demo')\n",
    "import scipy.stats\n",
    "#import sklearn\n",
    "#from sklearn.decomposition import FastICA\n",
    "import time\n",
    "from mpl_toolkits.axes_grid1 import make_axes_locatable\n",
    "import re"
   ]
  },
  {
   "cell_type": "markdown",
   "metadata": {},
   "source": [
    "Import the SBI packages"
   ]
  },
  {
   "cell_type": "code",
   "execution_count": 4,
   "metadata": {
    "tags": []
   },
   "outputs": [],
   "source": [
    "import torch\n",
    "import sbi \n",
    "import sbi.utils as utils\n",
    "from sbi.inference.base import infer\n",
    "\n",
    "from sbi.inference import SNPE, SNLE, SNRE, prepare_for_sbi,simulate_for_sbi\n",
    "from sbi.utils.get_nn_models import posterior_nn\n",
    "\n",
    "from scipy import signal\n",
    "from scipy.signal import hilbert\n",
    "\n",
    "from scipy import stats as spstats\n",
    "from scipy.stats import moment\n",
    "from scipy.stats import kurtosis\n",
    "from scipy.stats import skew\n",
    "from scipy.stats import mode\n",
    "\n",
    "import scipy\n",
    "\n",
    "from scipy.optimize import fsolve\n",
    "from scipy.optimize import root\n",
    "\n",
    "from numpy import linalg as LA\n",
    "from sklearn.decomposition import PCA"
   ]
  },
  {
   "cell_type": "markdown",
   "metadata": {},
   "source": [
    "Define your target/results folder"
   ]
  },
  {
   "cell_type": "code",
   "execution_count": 5,
   "metadata": {},
   "outputs": [
    {
     "name": "stdout",
     "output_type": "stream",
     "text": [
      "Running on numpy: v1.20.3\n",
      "Running on numba: v0.53.1\n",
      "Running on torch: v1.8.1+cu102\n",
      "Running on sbi: v0.16.0\n",
      "Running on numba: v0.53.1\n"
     ]
    }
   ],
   "source": [
    "print('Running on numpy: v{}'.format(np.version.version))\n",
    "print('Running on numba: v{}'.format(numba.__version__))\n",
    "print('Running on torch: v{}'.format(torch.__version__))\n",
    "print('Running on sbi: v{}'.format(sbi.__version__))\n",
    "print('Running on numba: v{}'.format(numba.__version__))"
   ]
  },
  {
   "cell_type": "markdown",
   "metadata": {},
   "source": [
    "Upload the data. You can use the class data of the Virtual Ageing Brain or uncomment the local folder upload. For the latter, **MODIFY THE run_sim() accordingly**"
   ]
  },
  {
   "cell_type": "code",
   "execution_count": 6,
   "metadata": {},
   "outputs": [],
   "source": [
    "bold                 = np.loadtxt(os.path.join('data_input_files','meanTS_GS_bptf_Schaefer100_7NW.txt'))\n",
    "weights              = np.loadtxt(os.path.join('data_input_files','SC_Schaefer7NW100p_nolog10.txt'))\n",
    "BOLD_TR      = 2250\n"
   ]
  },
  {
   "cell_type": "code",
   "execution_count": 45,
   "metadata": {},
   "outputs": [],
   "source": [
    "Res_dir     = 'results'\n",
    "if not os.path.exists(Res_dir):\n",
    "    os.makedirs(Res_dir)\n",
    "#path_root   = os.path.dirname(os.path.dirname(os.getcwd()))\n",
    "#cwd = os.getcwd()"
   ]
  },
  {
   "cell_type": "markdown",
   "metadata": {},
   "source": [
    "# Montbrio MODEL "
   ]
  },
  {
   "cell_type": "markdown",
   "metadata": {},
   "source": [
    "Define the simulation function via TVB backend and time rescaling. The BOLD is derived moving average of the R signal"
   ]
  },
  {
   "cell_type": "code",
   "execution_count": 8,
   "metadata": {},
   "outputs": [],
   "source": [
    "def run_sim(G,nsigma,weights,sim_len,BOLD_TR):\n",
    "    \n",
    "    t0 = time.time()\n",
    "    \n",
    "#     jul                                       = data.Julich()\n",
    "#     subjs                                     = jul.list_subjects()\n",
    "#     subj_age,gender,education,subj_ID,_,_,_,_ = jul.metadata()\n",
    "    magic_number = 124538.470647693\n",
    "\n",
    "#     SUBJ_TARG     = [subj_loc for subj_loc in range(len(subj_ID)) if mysubj in subj_ID[subj_loc] ][0]\n",
    "#     myage         = subj_age[SUBJ_TARG]\n",
    "\n",
    "#     _, weights    = jul.load_subject_sc_100(mysubj)\n",
    "    NHALF         = int(weights.shape[0]/2)\n",
    "\n",
    "#     print(mysubj,flush=True)\n",
    "#     print(subj_ID[SUBJ_TARG],flush=True)\n",
    "#     print(myage,flush=True)\n",
    "#     print(str(tau),flush=True)\n",
    "#     print(str(G),flush=True)\n",
    "\n",
    "    weights_orig                            = weights/magic_number\n",
    "    weights_symm                            = weights_orig \n",
    "\n",
    "    \n",
    "    conn               = connectivity.Connectivity(\n",
    "        weights=weights_symm,\n",
    "        region_labels=np.array(np.zeros(np.shape(weights_symm)[0]),dtype='<U128'),\n",
    "        tract_lengths=np.zeros(np.shape(weights_symm)),\n",
    "        areas =np.zeros(np.shape(weights_symm)[0]),\n",
    "        speed=np.array(np.Inf,dtype=float),\n",
    "        centres = np.zeros(np.shape(weights_symm)[0])) # default 76 regions \n",
    "    # conn_speed         = np.Inf  \n",
    "    # conn.weights       = weights_symm\n",
    "    # conn.areas         = np.zeros(np.shape(weights_symm))\n",
    "    # conn.tract_lengths = np.zeros(np.shape(weights_symm))\n",
    "#     print('weight:',weights_symm) \n",
    "#     print('shape :',np.shape(conn.weights))\n",
    "#     print('conn :', conn.weights)\n",
    "\n",
    "    mpr=models.MontbrioPazoRoxin(\n",
    "            eta   = np.r_[-4.6],\n",
    "            J     = np.r_[14.5],\n",
    "            Delta = np.r_[0.7],\n",
    "            tau   = np.r_[1],\n",
    "        )\n",
    "#     mpr.state_variable_range['r'] = np.array([0.,.25])\n",
    "\n",
    "    sim = simulator.Simulator(model=mpr,\n",
    "    connectivity=conn,\n",
    "        coupling=coupling.Scaling(\n",
    "          a=np.r_[G]\n",
    "        ),\n",
    "    conduction_speed=np.Inf,\n",
    "        integrator=integrators.HeunStochastic(\n",
    "          dt=dt,\n",
    "          noise=noise.Additive(\n",
    "              nsig=np.r_[nsigma, nsigma*2],\n",
    "              noise_seed=seed\n",
    "          )\n",
    "    ),\n",
    "    monitors=[\n",
    "          monitors.TemporalAverage(period=0.1),\n",
    "        ]\n",
    "    )\n",
    "\n",
    "    sim.configure()\n",
    "\n",
    "    (TemporalAverage_time, TemporalAverage_data), = simulation.run_nbMPR_backend(sim, simulation_length=sim_len)\n",
    "    TemporalAverage_time *= 10 # rescale time\n",
    "    \n",
    "#     Bold_time, Bold_data = simulation.tavg_to_bold(TemporalAverage_time, TemporalAverage_data, tavg_period=1., connectivity=sim.connectivity, svar=0, decimate=2000)\n",
    "    \n",
    "    R_TAVG = TemporalAverage_data[:,0,:,0]\n",
    "#     V = TemporalAverage_data[:,1,:,0]\n",
    "    \n",
    "    R = scipy.signal.decimate(R_TAVG, BOLD_TR, n=None, ftype='fir',axis=0)\n",
    "\n",
    "#     CPU_TIME = time.time() - t0\n",
    "#     print(['CPU time-->',CPU_TIME])\n",
    "\n",
    "\n",
    "    return R.T\n",
    "    \n",
    "    \n"
   ]
  },
  {
   "cell_type": "markdown",
   "metadata": {},
   "source": [
    "### simulation set up"
   ]
  },
  {
   "cell_type": "code",
   "execution_count": 9,
   "metadata": {
    "tags": []
   },
   "outputs": [],
   "source": [
    "dt         = 0.005\n",
    "eta        = -4.6\n",
    "J          = 14.5\n",
    "Delta      = 0.7\n",
    "tau        = 1.7\n",
    "nsigma     = 0.035\n",
    "seed       = 42\n",
    "sim_len    = 30e3"
   ]
  },
  {
   "cell_type": "code",
   "execution_count": 10,
   "metadata": {
    "tags": []
   },
   "outputs": [],
   "source": [
    "G          = 2.45"
   ]
  },
  {
   "cell_type": "markdown",
   "metadata": {},
   "source": [
    "### sanity check"
   ]
  },
  {
   "cell_type": "markdown",
   "metadata": {},
   "source": [
    "Check if the simulation with backend works and the CPU time for each run. According to Meysam's formalism, each signal matrix MUST BE (NODES X TIME). "
   ]
  },
  {
   "cell_type": "code",
   "execution_count": 11,
   "metadata": {},
   "outputs": [
    {
     "name": "stdout",
     "output_type": "stream",
     "text": [
      " single sim (sec) takes: 207.20010042190552\n"
     ]
    }
   ],
   "source": [
    "start_time = time.time()\n",
    "BOLD_r     = run_sim(G,nsigma,weights,sim_len,BOLD_TR)\n",
    "# bold_data = run_sim(G,nsigma,mysubj,alpha,sim_len)\n",
    "print(\" single sim (sec) takes:\" , (time.time() - start_time))"
   ]
  },
  {
   "cell_type": "code",
   "execution_count": 12,
   "metadata": {},
   "outputs": [
    {
     "data": {
      "text/plain": [
       "(100, 134)"
      ]
     },
     "execution_count": 12,
     "metadata": {},
     "output_type": "execute_result"
    }
   ],
   "source": [
    "BOLD_r.shape"
   ]
  },
  {
   "cell_type": "code",
   "execution_count": 13,
   "metadata": {},
   "outputs": [
    {
     "data": {
      "text/plain": [
       "(100, 134)"
      ]
     },
     "execution_count": 13,
     "metadata": {},
     "output_type": "execute_result"
    }
   ],
   "source": [
    "nt = BOLD_r.shape[1]\n",
    "nn = BOLD_r.shape[0]\n",
    "\n",
    "nn, nt"
   ]
  },
  {
   "cell_type": "markdown",
   "metadata": {},
   "source": [
    "### data features"
   ]
  },
  {
   "cell_type": "markdown",
   "metadata": {},
   "source": [
    "Compute the summary statistics via numpy and scipy. The function here extracts 10 momenta for each bold channel, FC mean, FCD mean, variance difference and standard deviation of FC stream. Check that you can compute FCD features via proper FCD packages"
   ]
  },
  {
   "cell_type": "code",
   "execution_count": 14,
   "metadata": {},
   "outputs": [],
   "source": [
    "from scipy import signal\n",
    "from scipy.signal import hilbert\n",
    "\n",
    "from scipy import stats as spstats\n",
    "from scipy.stats import moment\n",
    "from scipy.stats import kurtosis\n",
    "from scipy.stats import skew\n",
    "from scipy.stats import mode\n",
    "\n",
    "\n",
    "\n",
    "from scipy.optimize import fsolve\n",
    "from scipy.optimize import root\n",
    "\n",
    "from numpy import linalg as LA\n",
    "from sklearn.decomposition import PCA"
   ]
  },
  {
   "cell_type": "code",
   "execution_count": 15,
   "metadata": {
    "tags": []
   },
   "outputs": [],
   "source": [
    "def calculate_summary_statistics(x, nn,bold_dt,features):\n",
    "    \"\"\"Calculate summary statistics\n",
    "\n",
    "    Parameters\n",
    "    ----------\n",
    "    x : output of the simulator\n",
    "\n",
    "    Returns\n",
    "    -------\n",
    "    np.array, summary statistics\n",
    "    \"\"\"\n",
    "    \n",
    "#     X = np.reshape(x,(nn, int(x.shape[0]/nn)))\n",
    "    X = x.reshape(nn, int(x.shape[0]/nn))\n",
    "\n",
    "    n_summary = 16*nn+(nn*nn)+300*300\n",
    "\n",
    "    wwidth=30\n",
    "    maxNwindows=200\n",
    "    olap=0.96\n",
    "        \n",
    "    sum_stats_vec = np.concatenate((np.mean(X, axis=1), \n",
    "                                    np.median(X, axis=1),\n",
    "                                    np.std(X, axis=1),\n",
    "                                    skew(X, axis=1), \n",
    "                                    kurtosis(X, axis=1),\n",
    "                                    ))\n",
    "\n",
    "#     sum_stats_vec = []\n",
    "\n",
    "    for item in features:\n",
    "\n",
    "            if item == 'higher_moments':\n",
    "\n",
    "                        sum_stats_vec = np.concatenate((sum_stats_vec,\n",
    "                                                moment(X, moment=2, axis=1),\n",
    "                                                moment(X, moment=3, axis=1),\n",
    "                                                moment(X, moment=4, axis=1),\n",
    "                                                moment(X, moment=5, axis=1), \n",
    "                                                moment(X, moment=6, axis=1), \n",
    "                                                moment(X, moment=7, axis=1), \n",
    "                                                moment(X, moment=8, axis=1), \n",
    "                                                moment(X, moment=9, axis=1), \n",
    "                                                moment(X, moment=10, axis=1), \n",
    "                                                                   ))\n",
    "\n",
    "            if item == 'FC_corr':\n",
    "\n",
    "                        FC=np.corrcoef(X)\n",
    "                        off_diag_sum_FC = np.sum(FC) - np.trace(FC)\n",
    "                        #eigen_vals_FC, _ = LA.eig(FC)\n",
    "                        #pca = PCA(n_components=3)\n",
    "                        #PCA_FC = pca.fit_transform(FC)\n",
    "                        print('FC_Corr')\n",
    "                        sum_stats_vec = np.concatenate((sum_stats_vec,\n",
    "                                        np.array([off_diag_sum_FC]),\n",
    "                                                       ))\n",
    "\n",
    "            if item == 'FCD_corr':\n",
    "\n",
    "#                         FCDcorr,Pcorr,shift=extract_FCD(X,wwidth,maxNwindows,olap,mode='corr')\n",
    "\n",
    "                        win_FCD                       = 40e3\n",
    "                        NHALF                         = int(nn/2)\n",
    "                    \n",
    "                        mask_inter                              = np.zeros([nn,nn])\n",
    "                        mask_inter[0:NHALF,NHALF:NHALF*2]       = 1\n",
    "                        mask_inter[NHALF:NHALF*2,0:NHALF]       = 1\n",
    "                        \n",
    "                        bold_summ_stat = X.T\n",
    "                    \n",
    "                        FCD, fc_stack, speed_fcd      = analysis.compute_fcd(bold_summ_stat, win_len=int(win_FCD/bold_dt), win_sp=1)\n",
    "                        fcd_inter, fc_stack_inter, _  = analysis.compute_fcd_filt(bold_summ_stat,mask_inter,win_len=int(win_FCD/bold_dt),win_sp=1)\n",
    "                        \n",
    "                        FCD_TRIU            = np.triu(FCD, k=1)\n",
    "\n",
    "                        FCD_INTER_TRIU      = np.triu(fcd_inter, k=1)\n",
    "\n",
    "\n",
    "                        FCD_MEAN       = np.mean(FCD_TRIU)\n",
    "                        FCD_VAR        = np.var(FCD_TRIU)\n",
    "                        FCD_OSC        = np.std(fc_stack)\n",
    "                        FCD_OSC_INTER  = np.std(fc_stack_inter)\n",
    "\n",
    "                        FCD_MEAN_INTER       = np.mean(FCD_INTER_TRIU)\n",
    "                        FCD_VAR_INTER        = np.var(FCD_INTER_TRIU)\n",
    "                        \n",
    "                        DIFF_VAR             = FCD_VAR_INTER - FCD_VAR\n",
    "\n",
    "                        sum_stats_vec = np.concatenate((sum_stats_vec,\n",
    "                                        np.array([FCD_MEAN]), np.array([FCD_OSC_INTER]), np.array([DIFF_VAR])\n",
    "                                                       ))\n",
    "            \n",
    "    sum_stats_vec = sum_stats_vec[0:n_summary]        \n",
    "\n",
    "\n",
    "    return sum_stats_vec\n"
   ]
  },
  {
   "cell_type": "code",
   "execution_count": 16,
   "metadata": {},
   "outputs": [
    {
     "name": "stdout",
     "output_type": "stream",
     "text": [
      "FC_Corr\n"
     ]
    },
    {
     "data": {
      "text/plain": [
       "(1404,)"
      ]
     },
     "execution_count": 16,
     "metadata": {},
     "output_type": "execute_result"
    }
   ],
   "source": [
    "# _=calculate_summary_statistics(BOLD_r, nn, BOLD_TR, features=['higher_moments','FC_corr', 'FCD_corr'])\n",
    "bold_summary_statistics=calculate_summary_statistics(BOLD_r.reshape(-1), nn, BOLD_TR, features=['higher_moments','FC_corr', 'FCD_corr'])\n",
    "bold_summary_statistics.shape"
   ]
  },
  {
   "cell_type": "markdown",
   "metadata": {},
   "source": [
    "### 1. Simulator wrapper"
   ]
  },
  {
   "cell_type": "markdown",
   "metadata": {},
   "source": [
    "Define the wrapper such that you can iterate the simulator with SBI"
   ]
  },
  {
   "cell_type": "code",
   "execution_count": 17,
   "metadata": {
    "tags": []
   },
   "outputs": [],
   "source": [
    "def MPR_simulator_wrapper(params):\n",
    "\n",
    "    params = np.asarray(params)\n",
    "    \n",
    "    #params_alpha=params[0]\n",
    "    params_G=params[0]\n",
    "\n",
    "    BOLD_r_sim = run_sim(params_G,nsigma,weights,sim_len,BOLD_TR);\n",
    "     \n",
    "    summstats = torch.as_tensor(calculate_summary_statistics(BOLD_r_sim.reshape(-1), nn, BOLD_TR, features=['higher_moments','FC_corr', 'FCD_corr']))\n",
    "\n",
    "    return summstats "
   ]
  },
  {
   "cell_type": "markdown",
   "metadata": {},
   "source": [
    "### 2. Prior over model parameters"
   ]
  },
  {
   "cell_type": "markdown",
   "metadata": {},
   "source": [
    "Define the uniform prior and store it in a utils function for the SBI inference"
   ]
  },
  {
   "cell_type": "code",
   "execution_count": 18,
   "metadata": {
    "tags": []
   },
   "outputs": [],
   "source": [
    "prior_min_alpha=0.\n",
    "prior_min_G=1.5*np.ones(1)\n",
    "\n",
    "prior_max_alpha=1.\n",
    "prior_max_G=3.2*np.ones(1)"
   ]
  },
  {
   "cell_type": "code",
   "execution_count": 19,
   "metadata": {
    "tags": []
   },
   "outputs": [],
   "source": [
    "# prior_min=np.hstack([prior_min_alpha, prior_min_G])\n",
    "# prior_max=np.hstack([prior_max_alpha, prior_max_G])\n",
    "\n",
    "prior_min=np.hstack([prior_min_G])\n",
    "prior_max=np.hstack([prior_max_G])"
   ]
  },
  {
   "cell_type": "code",
   "execution_count": 20,
   "metadata": {},
   "outputs": [
    {
     "data": {
      "text/plain": [
       "((1,), (1,))"
      ]
     },
     "execution_count": 20,
     "metadata": {},
     "output_type": "execute_result"
    }
   ],
   "source": [
    "prior_min.shape, prior_max.shape"
   ]
  },
  {
   "cell_type": "code",
   "execution_count": 21,
   "metadata": {
    "tags": []
   },
   "outputs": [
    {
     "data": {
      "text/plain": [
       "BoxUniform(Uniform(low: tensor([1.5000]), high: tensor([3.2000])), 1)"
      ]
     },
     "execution_count": 21,
     "metadata": {},
     "output_type": "execute_result"
    }
   ],
   "source": [
    "prior = utils.torchutils.BoxUniform(low=torch.as_tensor(prior_min), high=torch.as_tensor(prior_max))\n",
    "prior"
   ]
  },
  {
   "cell_type": "markdown",
   "metadata": {},
   "source": [
    "### 3. Inference"
   ]
  },
  {
   "cell_type": "markdown",
   "metadata": {},
   "source": [
    "Inference procedure. Although the inference function is defined in the SBI toolbox, the function below shows that you can potentially split the simulation step from the inference \n",
    "in case that it is needed. For example, the simulation time for the wrappper is too long and you might want to parallelize on HPC facilities. The inference function produces a posterorior object, which contains a neural network for posterior density estimation"
   ]
  },
  {
   "cell_type": "code",
   "execution_count": 22,
   "metadata": {},
   "outputs": [],
   "source": [
    "from typing import Any, Callable, Dict, List, Optional, Tuple, Union, cast\n",
    "# from warnings import warn\n",
    "\n",
    "# import torch\n",
    "# from torch import Tensor\n",
    "# from torch.utils import data\n",
    "# from torch.utils.tensorboard import SummaryWriter\n",
    "\n",
    "import sbi.inference\n",
    "from sbi.inference.posteriors.base_posterior import NeuralPosterior"
   ]
  },
  {
   "cell_type": "code",
   "execution_count": 41,
   "metadata": {},
   "outputs": [],
   "source": [
    "def myinfer(\n",
    "    simulator: Callable, prior, method: str, num_simulations: int, num_workers: int = 1\n",
    ") -> NeuralPosterior:\n",
    "\n",
    "    try:\n",
    "        method_fun: Callable = getattr(sbi.inference, method.upper())\n",
    "    except AttributeError:\n",
    "        raise NameError(\n",
    "            \"Method not available. `method` must be one of 'SNPE', 'SNLE', 'SNRE'.\"\n",
    "        )\n",
    "\n",
    "    simulator, prior = prepare_for_sbi(simulator, prior)\n",
    "\n",
    "    inference = method_fun(prior)\n",
    "    theta, x = simulate_for_sbi(\n",
    "        simulator=simulator,\n",
    "        proposal=prior,\n",
    "        num_simulations=num_simulations,\n",
    "        num_workers=num_workers,\n",
    "        show_progress_bar=True,\n",
    "    )\n",
    "    \n",
    "    \n",
    "    print(theta,flush=True)\n",
    "    print(theta.shape,flush=True)\n",
    "    print(x,flush=True)\n",
    "    print(x.shape,flush=True)\n",
    "    \n",
    "    _ = inference.append_simulations(theta, x).train()\n",
    "    posterior = inference.build_posterior()    \n",
    "    \n",
    "    mysavepath = os.path.join(Res_dir, 'inference_theta_jn_sim.npz')\n",
    "    np.savez(mysavepath,theta=theta,x=x)\n",
    "\n",
    "    return posterior"
   ]
  },
  {
   "cell_type": "code",
   "execution_count": 42,
   "metadata": {},
   "outputs": [],
   "source": [
    "mysavepath = os.path.join(Res_dir, 'inference_theta_jn_sim.npz')"
   ]
  },
  {
   "cell_type": "code",
   "execution_count": 46,
   "metadata": {},
   "outputs": [
    {
     "name": "stdout",
     "output_type": "stream",
     "text": [
      "FC_Corr\n",
      "FC_Corr\n"
     ]
    },
    {
     "data": {
      "application/vnd.jupyter.widget-view+json": {
       "model_id": "377d0fd0d8c446c88b67d09cbbe58874",
       "version_major": 2,
       "version_minor": 0
      },
      "text/plain": [
       "Running 20 simulations.:   0%|          | 0/20 [00:00<?, ?it/s]"
      ]
     },
     "metadata": {},
     "output_type": "display_data"
    },
    {
     "name": "stdout",
     "output_type": "stream",
     "text": [
      "FC_Corr\n",
      "FC_Corr\n"
     ]
    },
    {
     "name": "stderr",
     "output_type": "stream",
     "text": [
      "/home/izaak/local_repos/nostromo/tvb-inversion/mpr_sbi_tvb/env/lib/python3.8/site-packages/numpy/core/_methods.py:178: RuntimeWarning: invalid value encountered in reduce\n",
      "  ret = umr_sum(arr, axis, dtype, out, keepdims, where=where)\n",
      "/home/izaak/local_repos/nostromo/tvb-inversion/mpr_sbi_tvb/env/lib/python3.8/site-packages/numpy/core/_methods.py:211: RuntimeWarning: invalid value encountered in reduce\n",
      "  arrmean = umr_sum(arr, axis, dtype, keepdims=True, where=where)\n",
      "/home/izaak/local_repos/nostromo/tvb-inversion/mpr_sbi_tvb/env/lib/python3.8/site-packages/numpy/core/_methods.py:232: RuntimeWarning: overflow encountered in multiply\n",
      "  x = um.multiply(x, x, out=x)\n",
      "/home/izaak/local_repos/nostromo/tvb-inversion/mpr_sbi_tvb/env/lib/python3.8/site-packages/scipy/stats/stats.py:1086: RuntimeWarning: overflow encountered in square\n",
      "  s = a_zero_mean**2\n",
      "/home/izaak/local_repos/nostromo/tvb-inversion/mpr_sbi_tvb/env/lib/python3.8/site-packages/scipy/stats/stats.py:1090: RuntimeWarning: overflow encountered in square\n",
      "  s = s**2\n",
      "/home/izaak/local_repos/nostromo/tvb-inversion/mpr_sbi_tvb/env/lib/python3.8/site-packages/scipy/stats/stats.py:1092: RuntimeWarning: overflow encountered in multiply\n",
      "  s *= a_zero_mean\n",
      "/home/izaak/local_repos/nostromo/tvb-inversion/mpr_sbi_tvb/env/lib/python3.8/site-packages/scipy/stats/stats.py:1234: RuntimeWarning: overflow encountered in power\n",
      "  lambda m2, m3: m3 / m2**1.5,\n",
      "/home/izaak/local_repos/nostromo/tvb-inversion/mpr_sbi_tvb/env/lib/python3.8/site-packages/numpy/lib/function_base.py:2642: RuntimeWarning: invalid value encountered in true_divide\n",
      "  c /= stddev[:, None]\n",
      "/home/izaak/local_repos/nostromo/tvb-inversion/mpr_sbi_tvb/env/lib/python3.8/site-packages/numpy/lib/function_base.py:2643: RuntimeWarning: invalid value encountered in true_divide\n",
      "  c /= stddev[None, :]\n",
      "/home/izaak/local_repos/nostromo/tvb-inversion/mpr_sbi_tvb/env/lib/python3.8/site-packages/numpy/lib/function_base.py:2487: RuntimeWarning: invalid value encountered in subtract\n",
      "  X -= avg[:, None]\n"
     ]
    },
    {
     "name": "stdout",
     "output_type": "stream",
     "text": [
      "FC_Corr\n"
     ]
    },
    {
     "name": "stderr",
     "output_type": "stream",
     "text": [
      "/home/izaak/local_repos/nostromo/tvb-inversion/mpr_sbi_tvb/env/lib/python3.8/site-packages/numpy/core/_methods.py:178: RuntimeWarning: invalid value encountered in reduce\n",
      "  ret = umr_sum(arr, axis, dtype, out, keepdims, where=where)\n",
      "/home/izaak/local_repos/nostromo/tvb-inversion/mpr_sbi_tvb/env/lib/python3.8/site-packages/numpy/core/_methods.py:211: RuntimeWarning: invalid value encountered in reduce\n",
      "  arrmean = umr_sum(arr, axis, dtype, keepdims=True, where=where)\n",
      "/home/izaak/local_repos/nostromo/tvb-inversion/mpr_sbi_tvb/env/lib/python3.8/site-packages/numpy/core/_methods.py:232: RuntimeWarning: overflow encountered in multiply\n",
      "  x = um.multiply(x, x, out=x)\n",
      "/home/izaak/local_repos/nostromo/tvb-inversion/mpr_sbi_tvb/env/lib/python3.8/site-packages/scipy/stats/stats.py:1086: RuntimeWarning: overflow encountered in square\n",
      "  s = a_zero_mean**2\n",
      "/home/izaak/local_repos/nostromo/tvb-inversion/mpr_sbi_tvb/env/lib/python3.8/site-packages/scipy/stats/stats.py:1090: RuntimeWarning: overflow encountered in square\n",
      "  s = s**2\n",
      "/home/izaak/local_repos/nostromo/tvb-inversion/mpr_sbi_tvb/env/lib/python3.8/site-packages/numpy/lib/function_base.py:2642: RuntimeWarning: invalid value encountered in true_divide\n",
      "  c /= stddev[:, None]\n",
      "/home/izaak/local_repos/nostromo/tvb-inversion/mpr_sbi_tvb/env/lib/python3.8/site-packages/numpy/lib/function_base.py:2487: RuntimeWarning: invalid value encountered in subtract\n",
      "  X -= avg[:, None]\n"
     ]
    },
    {
     "name": "stdout",
     "output_type": "stream",
     "text": [
      "FC_Corr\n"
     ]
    },
    {
     "name": "stderr",
     "output_type": "stream",
     "text": [
      "/home/izaak/local_repos/nostromo/tvb-inversion/mpr_sbi_tvb/env/lib/python3.8/site-packages/numpy/core/_methods.py:178: RuntimeWarning: invalid value encountered in reduce\n",
      "  ret = umr_sum(arr, axis, dtype, out, keepdims, where=where)\n",
      "/home/izaak/local_repos/nostromo/tvb-inversion/mpr_sbi_tvb/env/lib/python3.8/site-packages/numpy/core/_methods.py:211: RuntimeWarning: invalid value encountered in reduce\n",
      "  arrmean = umr_sum(arr, axis, dtype, keepdims=True, where=where)\n",
      "/home/izaak/local_repos/nostromo/tvb-inversion/mpr_sbi_tvb/env/lib/python3.8/site-packages/numpy/core/_methods.py:232: RuntimeWarning: overflow encountered in multiply\n",
      "  x = um.multiply(x, x, out=x)\n",
      "/home/izaak/local_repos/nostromo/tvb-inversion/mpr_sbi_tvb/env/lib/python3.8/site-packages/scipy/stats/stats.py:1086: RuntimeWarning: overflow encountered in square\n",
      "  s = a_zero_mean**2\n",
      "/home/izaak/local_repos/nostromo/tvb-inversion/mpr_sbi_tvb/env/lib/python3.8/site-packages/scipy/stats/stats.py:1090: RuntimeWarning: overflow encountered in square\n",
      "  s = s**2\n",
      "/home/izaak/local_repos/nostromo/tvb-inversion/mpr_sbi_tvb/env/lib/python3.8/site-packages/numpy/lib/function_base.py:2642: RuntimeWarning: invalid value encountered in true_divide\n",
      "  c /= stddev[:, None]\n",
      "/home/izaak/local_repos/nostromo/tvb-inversion/mpr_sbi_tvb/env/lib/python3.8/site-packages/numpy/lib/function_base.py:2643: RuntimeWarning: invalid value encountered in true_divide\n",
      "  c /= stddev[None, :]\n",
      "/home/izaak/local_repos/nostromo/tvb-inversion/mpr_sbi_tvb/env/lib/python3.8/site-packages/numpy/lib/function_base.py:2487: RuntimeWarning: invalid value encountered in subtract\n",
      "  X -= avg[:, None]\n"
     ]
    },
    {
     "name": "stdout",
     "output_type": "stream",
     "text": [
      "FC_Corr\n",
      "FC_Corr\n",
      "FC_Corr\n",
      "FC_Corr\n",
      "FC_Corr\n",
      "FC_Corr\n"
     ]
    },
    {
     "name": "stderr",
     "output_type": "stream",
     "text": [
      "/home/izaak/local_repos/nostromo/tvb-inversion/mpr_sbi_tvb/env/lib/python3.8/site-packages/numpy/core/_methods.py:178: RuntimeWarning: invalid value encountered in reduce\n",
      "  ret = umr_sum(arr, axis, dtype, out, keepdims, where=where)\n",
      "/home/izaak/local_repos/nostromo/tvb-inversion/mpr_sbi_tvb/env/lib/python3.8/site-packages/numpy/core/_methods.py:211: RuntimeWarning: invalid value encountered in reduce\n",
      "  arrmean = umr_sum(arr, axis, dtype, keepdims=True, where=where)\n",
      "/home/izaak/local_repos/nostromo/tvb-inversion/mpr_sbi_tvb/env/lib/python3.8/site-packages/numpy/core/_methods.py:232: RuntimeWarning: overflow encountered in multiply\n",
      "  x = um.multiply(x, x, out=x)\n",
      "/home/izaak/local_repos/nostromo/tvb-inversion/mpr_sbi_tvb/env/lib/python3.8/site-packages/scipy/stats/stats.py:1086: RuntimeWarning: overflow encountered in square\n",
      "  s = a_zero_mean**2\n",
      "/home/izaak/local_repos/nostromo/tvb-inversion/mpr_sbi_tvb/env/lib/python3.8/site-packages/scipy/stats/stats.py:1090: RuntimeWarning: overflow encountered in square\n",
      "  s = s**2\n",
      "/home/izaak/local_repos/nostromo/tvb-inversion/mpr_sbi_tvb/env/lib/python3.8/site-packages/scipy/stats/stats.py:1092: RuntimeWarning: overflow encountered in multiply\n",
      "  s *= a_zero_mean\n",
      "/home/izaak/local_repos/nostromo/tvb-inversion/mpr_sbi_tvb/env/lib/python3.8/site-packages/scipy/stats/stats.py:1234: RuntimeWarning: overflow encountered in power\n",
      "  lambda m2, m3: m3 / m2**1.5,\n",
      "/home/izaak/local_repos/nostromo/tvb-inversion/mpr_sbi_tvb/env/lib/python3.8/site-packages/numpy/lib/function_base.py:2642: RuntimeWarning: invalid value encountered in true_divide\n",
      "  c /= stddev[:, None]\n",
      "/home/izaak/local_repos/nostromo/tvb-inversion/mpr_sbi_tvb/env/lib/python3.8/site-packages/numpy/lib/function_base.py:2643: RuntimeWarning: invalid value encountered in true_divide\n",
      "  c /= stddev[None, :]\n"
     ]
    },
    {
     "name": "stdout",
     "output_type": "stream",
     "text": [
      "FC_Corr\n",
      "FC_Corr\n",
      "FC_Corr\n",
      "FC_Corr\n",
      "FC_Corr\n"
     ]
    },
    {
     "name": "stderr",
     "output_type": "stream",
     "text": [
      "/home/izaak/local_repos/nostromo/tvb-inversion/mpr_sbi_tvb/env/lib/python3.8/site-packages/numpy/lib/function_base.py:2642: RuntimeWarning: invalid value encountered in true_divide\n",
      "  c /= stddev[:, None]\n",
      "/home/izaak/local_repos/nostromo/tvb-inversion/mpr_sbi_tvb/env/lib/python3.8/site-packages/numpy/lib/function_base.py:2643: RuntimeWarning: invalid value encountered in true_divide\n",
      "  c /= stddev[None, :]\n"
     ]
    },
    {
     "name": "stdout",
     "output_type": "stream",
     "text": [
      "FC_Corr\n",
      "FC_Corr\n",
      "FC_Corr\n"
     ]
    },
    {
     "name": "stderr",
     "output_type": "stream",
     "text": [
      "/home/izaak/local_repos/nostromo/tvb-inversion/mpr_sbi_tvb/env/lib/python3.8/site-packages/numpy/core/_methods.py:178: RuntimeWarning: invalid value encountered in reduce\n",
      "  ret = umr_sum(arr, axis, dtype, out, keepdims, where=where)\n",
      "/home/izaak/local_repos/nostromo/tvb-inversion/mpr_sbi_tvb/env/lib/python3.8/site-packages/numpy/core/_methods.py:211: RuntimeWarning: invalid value encountered in reduce\n",
      "  arrmean = umr_sum(arr, axis, dtype, keepdims=True, where=where)\n",
      "/home/izaak/local_repos/nostromo/tvb-inversion/mpr_sbi_tvb/env/lib/python3.8/site-packages/numpy/core/_methods.py:232: RuntimeWarning: overflow encountered in multiply\n",
      "  x = um.multiply(x, x, out=x)\n",
      "/home/izaak/local_repos/nostromo/tvb-inversion/mpr_sbi_tvb/env/lib/python3.8/site-packages/numpy/core/_methods.py:243: RuntimeWarning: overflow encountered in reduce\n",
      "  ret = umr_sum(x, axis, dtype, out, keepdims=keepdims, where=where)\n",
      "/home/izaak/local_repos/nostromo/tvb-inversion/mpr_sbi_tvb/env/lib/python3.8/site-packages/scipy/stats/stats.py:1086: RuntimeWarning: overflow encountered in square\n",
      "  s = a_zero_mean**2\n",
      "/home/izaak/local_repos/nostromo/tvb-inversion/mpr_sbi_tvb/env/lib/python3.8/site-packages/numpy/core/_methods.py:178: RuntimeWarning: overflow encountered in reduce\n",
      "  ret = umr_sum(arr, axis, dtype, out, keepdims, where=where)\n",
      "/home/izaak/local_repos/nostromo/tvb-inversion/mpr_sbi_tvb/env/lib/python3.8/site-packages/scipy/stats/stats.py:1090: RuntimeWarning: overflow encountered in square\n",
      "  s = s**2\n",
      "/home/izaak/local_repos/nostromo/tvb-inversion/mpr_sbi_tvb/env/lib/python3.8/site-packages/scipy/stats/stats.py:1092: RuntimeWarning: overflow encountered in multiply\n",
      "  s *= a_zero_mean\n",
      "/home/izaak/local_repos/nostromo/tvb-inversion/mpr_sbi_tvb/env/lib/python3.8/site-packages/scipy/stats/stats.py:1234: RuntimeWarning: overflow encountered in power\n",
      "  lambda m2, m3: m3 / m2**1.5,\n",
      "/home/izaak/local_repos/nostromo/tvb-inversion/mpr_sbi_tvb/env/lib/python3.8/site-packages/numpy/lib/function_base.py:2642: RuntimeWarning: invalid value encountered in true_divide\n",
      "  c /= stddev[:, None]\n",
      "/home/izaak/local_repos/nostromo/tvb-inversion/mpr_sbi_tvb/env/lib/python3.8/site-packages/numpy/lib/function_base.py:2643: RuntimeWarning: invalid value encountered in true_divide\n",
      "  c /= stddev[None, :]\n",
      "/home/izaak/local_repos/nostromo/tvb-inversion/mpr_sbi_tvb/env/lib/python3.8/site-packages/numpy/lib/function_base.py:2487: RuntimeWarning: invalid value encountered in subtract\n",
      "  X -= avg[:, None]\n"
     ]
    },
    {
     "name": "stdout",
     "output_type": "stream",
     "text": [
      "FC_Corr\n",
      "FC_Corr\n",
      "tensor([[1.7881],\n",
      "        [2.5827],\n",
      "        [3.0356],\n",
      "        [2.6882],\n",
      "        [3.0182],\n",
      "        [1.9968],\n",
      "        [2.0342],\n",
      "        [2.4781],\n",
      "        [1.5761],\n",
      "        [2.2755],\n",
      "        [3.1161],\n",
      "        [2.2234],\n",
      "        [1.5618],\n",
      "        [1.5514],\n",
      "        [3.0635],\n",
      "        [2.1692],\n",
      "        [2.4599],\n",
      "        [1.7666],\n",
      "        [2.8733],\n",
      "        [2.6938]])\n",
      "torch.Size([20, 1])\n",
      "tensor([[0.1127, 0.1126, 0.1148,  ..., 0.0634, 0.1299, 0.0014],\n",
      "        [0.2189, 0.1879, 0.1585,  ..., 0.1395, 0.1422, 0.0042],\n",
      "        [   inf,    inf,    inf,  ...,    nan,    nan,    nan],\n",
      "        ...,\n",
      "        [0.1126, 0.1126, 0.1148,  ..., 0.0634, 0.1306, 0.0016],\n",
      "        [   inf,    inf,    inf,  ...,    nan,    nan,    nan],\n",
      "        [   inf,    inf,    inf,  ...,    nan,    nan,    nan]])\n",
      "torch.Size([20, 1404])\n",
      "WARNING  Found 7 NaN simulations and 6 Inf simulations. They will be excluded from training.\n"
     ]
    },
    {
     "name": "stderr",
     "output_type": "stream",
     "text": [
      "/home/izaak/local_repos/nostromo/tvb-inversion/mpr_sbi_tvb/env/lib/python3.8/site-packages/numpy/core/_methods.py:178: RuntimeWarning: invalid value encountered in reduce\n",
      "  ret = umr_sum(arr, axis, dtype, out, keepdims, where=where)\n",
      "/home/izaak/local_repos/nostromo/tvb-inversion/mpr_sbi_tvb/env/lib/python3.8/site-packages/numpy/core/_methods.py:211: RuntimeWarning: invalid value encountered in reduce\n",
      "  arrmean = umr_sum(arr, axis, dtype, keepdims=True, where=where)\n",
      "/home/izaak/local_repos/nostromo/tvb-inversion/mpr_sbi_tvb/env/lib/python3.8/site-packages/numpy/core/_methods.py:232: RuntimeWarning: overflow encountered in multiply\n",
      "  x = um.multiply(x, x, out=x)\n",
      "/home/izaak/local_repos/nostromo/tvb-inversion/mpr_sbi_tvb/env/lib/python3.8/site-packages/scipy/stats/stats.py:1086: RuntimeWarning: overflow encountered in square\n",
      "  s = a_zero_mean**2\n",
      "/home/izaak/local_repos/nostromo/tvb-inversion/mpr_sbi_tvb/env/lib/python3.8/site-packages/scipy/stats/stats.py:1090: RuntimeWarning: overflow encountered in square\n",
      "  s = s**2\n",
      "/home/izaak/local_repos/nostromo/tvb-inversion/mpr_sbi_tvb/env/lib/python3.8/site-packages/numpy/lib/function_base.py:2642: RuntimeWarning: invalid value encountered in true_divide\n",
      "  c /= stddev[:, None]\n",
      "/home/izaak/local_repos/nostromo/tvb-inversion/mpr_sbi_tvb/env/lib/python3.8/site-packages/numpy/lib/function_base.py:2643: RuntimeWarning: invalid value encountered in true_divide\n",
      "  c /= stddev[None, :]\n",
      "/home/izaak/local_repos/nostromo/tvb-inversion/mpr_sbi_tvb/env/lib/python3.8/site-packages/numpy/lib/function_base.py:2487: RuntimeWarning: invalid value encountered in subtract\n",
      "  X -= avg[:, None]\n",
      "/home/izaak/local_repos/nostromo/tvb-inversion/mpr_sbi_tvb/env/lib/python3.8/site-packages/sbi/neural_nets/flow.py:108: UserWarning: In one-dimensional output space, this flow is limited to Gaussians\n",
      "  warn(f\"In one-dimensional output space, this flow is limited to Gaussians\")\n"
     ]
    },
    {
     "name": "stdout",
     "output_type": "stream",
     "text": [
      "Neural network successfully converged after 130 epochs.\n",
      "------------------------------------------------------------\n",
      "--- 4748.607769727707 seconds ---\n"
     ]
    }
   ],
   "source": [
    "start_time = time.time()\n",
    "\n",
    "posterior = myinfer(MPR_simulator_wrapper, prior, method='SNPE',  num_simulations=20, num_workers=1)\n",
    "\n",
    "print (\"-\"*60)\n",
    "print(\"--- %s seconds ---\" % (time.time() - start_time))"
   ]
  },
  {
   "cell_type": "markdown",
   "metadata": {},
   "source": [
    "### SUMMARY STATISTICS TO GET THE POSTERIOR"
   ]
  },
  {
   "cell_type": "markdown",
   "metadata": {},
   "source": [
    "In order to compute $p(\\theta|x)$, you need to pass a vector of summary statistics input $x$ to the ANN-posterior estimator. It can either be defined on target simulation data for validation purposes or the empirical data for \"therapy\" reason"
   ]
  },
  {
   "cell_type": "code",
   "execution_count": 47,
   "metadata": {
    "tags": []
   },
   "outputs": [],
   "source": [
    "alpha_true= 0.0\n",
    "beta_true = 0.0\n",
    "G_true    = 2.45"
   ]
  },
  {
   "cell_type": "code",
   "execution_count": 48,
   "metadata": {
    "tags": []
   },
   "outputs": [],
   "source": [
    "labels_params = [r'$G$']"
   ]
  },
  {
   "cell_type": "code",
   "execution_count": 49,
   "metadata": {
    "tags": []
   },
   "outputs": [],
   "source": [
    "params_true = np.hstack([alpha_true, G_true])"
   ]
  },
  {
   "cell_type": "markdown",
   "metadata": {},
   "source": [
    "The block below chooses between a validation with a simulation or empirical data"
   ]
  },
  {
   "cell_type": "code",
   "execution_count": 50,
   "metadata": {
    "tags": []
   },
   "outputs": [],
   "source": [
    "## IF you want to benchmark simualtions\n",
    "BOLD_obs = run_sim(G_true,nsigma,weights,sim_len,BOLD_TR);\n",
    "## IF you want empirical data\n",
    "# bold_emp = jul.load_subject_fc_100(mysubj)\n",
    "# BOLD_obs = bold_emp.T"
   ]
  },
  {
   "cell_type": "code",
   "execution_count": 51,
   "metadata": {
    "tags": []
   },
   "outputs": [
    {
     "name": "stdout",
     "output_type": "stream",
     "text": [
      "FC_Corr\n"
     ]
    }
   ],
   "source": [
    "obs_summary_statistics=calculate_summary_statistics(BOLD_obs.reshape(-1), nn, 2250, features=['higher_moments','FC_corr', 'FCD_corr'])"
   ]
  },
  {
   "cell_type": "code",
   "execution_count": 52,
   "metadata": {},
   "outputs": [
    {
     "data": {
      "text/plain": [
       "((100, 134), (1404,))"
      ]
     },
     "execution_count": 52,
     "metadata": {},
     "output_type": "execute_result"
    }
   ],
   "source": [
    "BOLD_obs.shape, obs_summary_statistics.shape"
   ]
  },
  {
   "cell_type": "markdown",
   "metadata": {},
   "source": [
    "## POSTERIOR DISTRIBUTION"
   ]
  },
  {
   "cell_type": "markdown",
   "metadata": {},
   "source": [
    "The last step derive or upload the posterior"
   ]
  },
  {
   "cell_type": "code",
   "execution_count": 53,
   "metadata": {},
   "outputs": [],
   "source": [
    "alpha_true= 0.0\n",
    "beta_true = 0.0\n",
    "G_true    = 2.45"
   ]
  },
  {
   "cell_type": "code",
   "execution_count": 54,
   "metadata": {},
   "outputs": [],
   "source": [
    "params_true = np.hstack([G_true])"
   ]
  },
  {
   "cell_type": "code",
   "execution_count": 55,
   "metadata": {
    "tags": []
   },
   "outputs": [],
   "source": [
    "num_samples=1000"
   ]
  },
  {
   "cell_type": "code",
   "execution_count": 56,
   "metadata": {},
   "outputs": [
    {
     "name": "stderr",
     "output_type": "stream",
     "text": [
      "Tuning bracket width...: 100%|██████████| 50/50 [00:07<00:00,  6.99it/s]\n",
      "Generating samples: 100%|██████████| 20/20 [00:17<00:00,  1.11it/s]\n",
      "Generating samples: 100%|██████████| 1000/1000 [07:16<00:00,  2.29it/s]\n"
     ]
    }
   ],
   "source": [
    "posterior_samples = posterior.sample((num_samples,), obs_summary_statistics, sample_with_mcmc=True,).numpy()"
   ]
  },
  {
   "cell_type": "code",
   "execution_count": 57,
   "metadata": {},
   "outputs": [],
   "source": [
    "mysavepath = os.path.join(Res_dir, 'posterior_samples_jn_sim.npz')\n",
    "np.savez(mysavepath,posterior_samples=posterior_samples)"
   ]
  },
  {
   "cell_type": "code",
   "execution_count": 60,
   "metadata": {},
   "outputs": [
    {
     "data": {
      "text/plain": [
       "array([[0.1126783 , 0.11256757, 0.11484358, ..., 0.06342938, 0.12990344,\n",
       "        0.00136276],\n",
       "       [0.21887308, 0.18787538, 0.15850255, ..., 0.1394502 , 0.1422401 ,\n",
       "        0.00417313],\n",
       "       [       inf,        inf,        inf, ...,        nan,        nan,\n",
       "               nan],\n",
       "       ...,\n",
       "       [0.112604  , 0.11257225, 0.1148175 , ..., 0.06337447, 0.13055809,\n",
       "        0.00161271],\n",
       "       [       inf,        inf,        inf, ...,        nan,        nan,\n",
       "               nan],\n",
       "       [       inf,        inf,        inf, ...,        nan,        nan,\n",
       "               nan]], dtype=float32)"
      ]
     },
     "execution_count": 60,
     "metadata": {},
     "output_type": "execute_result"
    }
   ],
   "source": [
    "#mysavepath  = os.path.join(Res_dir, 'inference_theta_emp_100sim.npz')\n",
    "mysavepath  = os.path.join(Res_dir, 'inference_theta_jn_sim.npz')\n",
    "myinference = np.load(mysavepath)\n",
    "theta = myinference['theta']\n",
    "x     = myinference['x']\n",
    "x"
   ]
  },
  {
   "cell_type": "code",
   "execution_count": 61,
   "metadata": {
    "tags": []
   },
   "outputs": [],
   "source": [
    " mysavepath = os.path.join(Res_dir, 'posterior_samples_jn_sim.npz')\n",
    "# mysavepath  = os.path.join(Res_dir,'posterior_samples_MPR_aged_obs1.npz')\n",
    "# mysavepath  = os.path.join(Res_dir,'posterior_samples_MPR_EMP_100sim.npz')\n",
    "# np.savez(mysavepath,posterior_samples=posterior_samples)"
   ]
  },
  {
   "cell_type": "code",
   "execution_count": 62,
   "metadata": {},
   "outputs": [],
   "source": [
    "myposterior = np.load(mysavepath)"
   ]
  },
  {
   "cell_type": "code",
   "execution_count": 63,
   "metadata": {},
   "outputs": [],
   "source": [
    "posterior_samples = myposterior['posterior_samples']"
   ]
  },
  {
   "cell_type": "code",
   "execution_count": 64,
   "metadata": {},
   "outputs": [],
   "source": [
    "G_posterior=posterior_samples[:,0]"
   ]
  },
  {
   "cell_type": "code",
   "execution_count": 65,
   "metadata": {},
   "outputs": [
    {
     "data": {
      "image/png": "[encoded data removed]",
      "text/plain": [
       "<Figure size 288x288 with 1 Axes>"
      ]
     },
     "metadata": {
      "needs_background": "light"
     },
     "output_type": "display_data"
    }
   ],
   "source": [
    "plt.figure(figsize=(4,4))\n",
    "parts= plt.violinplot(G_posterior, widths=0.7, showmeans=True, showextrema=True);\n",
    "plt.plot(1,params_true[0] ,'o', color='k', alpha=0.9, markersize=8)\n",
    "plt.ylabel(' Posterior ' +r'${(G)}$', fontsize=18);  \n",
    "plt.xlabel(r'${G}$', fontsize=18); \n",
    "plt.xticks([])\n",
    "plt.yticks(fontsize=14)\n",
    "plt.tight_layout()\n",
    "plt.show()"
   ]
  }
 ],
 "metadata": {
  "kernelspec": {
   "display_name": "Python 3",
   "language": "python",
   "name": "python3"
  },
  "language_info": {
   "codemirror_mode": {
    "name": "ipython",
    "version": 3
   },
   "file_extension": ".py",
   "mimetype": "text/x-python",
   "name": "python",
   "nbconvert_exporter": "python",
   "pygments_lexer": "ipython3",
   "version": "3.8.0"
  }
 },
 "nbformat": 4,
 "nbformat_minor": 4
}
