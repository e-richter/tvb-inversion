{
 "cells": [
  {
   "cell_type": "code",
   "execution_count": 1,
   "id": "ecec7f1e-8413-40f2-9bb5-2b0d62251b6b",
   "metadata": {},
   "outputs": [
    {
     "name": "stderr",
     "output_type": "stream",
     "text": [
      "/opt/conda/lib/python3.8/site-packages/tvb_library-2.2-py3.8.egg/tvb/datatypes/surfaces.py:61: UserWarning: Geodesic distance module is unavailable; some functionality for surfaces will be unavailable.\n",
      "  warnings.warn(msg)\n"
     ]
    }
   ],
   "source": [
    "import numpy as np\n",
    "import sbi_tvb\n",
    "from matplotlib import rcParams\n",
    "from sbi_tvb.inference import TvbInference\n",
    "from tvb.simulator.lab import *"
   ]
  },
  {
   "cell_type": "code",
   "execution_count": 2,
   "id": "e5bb4508-e16b-4133-91f5-a3aef51c99f2",
   "metadata": {},
   "outputs": [],
   "source": [
    "rcParams['figure.figsize'] = 15, 6"
   ]
  },
  {
   "cell_type": "code",
   "execution_count": 29,
   "id": "5115ca9c-ae30-4895-ba8a-5f3dc9647e14",
   "metadata": {},
   "outputs": [],
   "source": [
    "#\n",
    "# Simulation setup\n",
    "#\n",
    "dt = 0.005\n",
    "nsigma = 0.035\n",
    "seed = 42\n",
    "sim_len = 30e3\n",
    "G = 2.45\n",
    "BOLD_TR = 2250"
   ]
  },
  {
   "cell_type": "code",
   "execution_count": 4,
   "id": "2ef00446-367b-44d4-b59f-2764137f9244",
   "metadata": {},
   "outputs": [],
   "source": [
    "# Define connectivity\n",
    "sbi_tvb_path = os.path.dirname(os.path.dirname(sbi_tvb.__file__))\n",
    "weights = np.loadtxt(os.path.join(sbi_tvb_path, 'data_input_files', 'SC_Schaefer7NW100p_nolog10.txt'))"
   ]
  },
  {
   "cell_type": "code",
   "execution_count": 5,
   "id": "ed2738fe-bea8-4b58-976d-753ae5014d29",
   "metadata": {},
   "outputs": [
    {
     "name": "stdout",
     "output_type": "stream",
     "text": [
      "Build TvbInference object\n"
     ]
    },
    {
     "data": {
      "text/plain": [
       "<sbi_tvb.inference.TvbInference at 0x7fb9109775e0>"
      ]
     },
     "execution_count": 5,
     "metadata": {},
     "output_type": "execute_result"
    }
   ],
   "source": [
    "print(\"Build TvbInference object\")\n",
    "tvb_inference = TvbInference('results', num_simulations=3000, num_workers=40)\n",
    "tvb_inference"
   ]
  },
  {
   "cell_type": "code",
   "execution_count": 6,
   "id": "f28e6cf9-7b16-406d-8a5d-43ab7a80b3c7",
   "metadata": {},
   "outputs": [
    {
     "name": "stdout",
     "output_type": "stream",
     "text": [
      "Build prior\n"
     ]
    }
   ],
   "source": [
    "print(\"Build prior\")\n",
    "tvb_inference.build_prior(1.5, 3.2)"
   ]
  },
  {
   "cell_type": "code",
   "execution_count": 30,
   "id": "e86e5982-de07-44de-8556-cb810c9cb5c1",
   "metadata": {},
   "outputs": [
    {
     "name": "stdout",
     "output_type": "stream",
     "text": [
      "Simulation setup\n"
     ]
    }
   ],
   "source": [
    "print(\"Simulation setup\")\n",
    "tvb_inference.simulation_setup(weights, sim_len, nsigma, BOLD_TR, dt, seed)"
   ]
  },
  {
   "cell_type": "code",
   "execution_count": 8,
   "id": "f300b494-7f92-45cd-995f-1dae2ec5aaa0",
   "metadata": {},
   "outputs": [
    {
     "name": "stdout",
     "output_type": "stream",
     "text": [
      "Sbi inference\n",
      "FC_Corr\n",
      "FC_Corr\n"
     ]
    },
    {
     "name": "stderr",
     "output_type": "stream",
     "text": [
      "/opt/conda/lib/python3.8/site-packages/numpy/core/_methods.py:178: RuntimeWarning: invalid value encountered in reduce\n",
      "  ret = umr_sum(arr, axis, dtype, out, keepdims, where=where)\n",
      "/opt/conda/lib/python3.8/site-packages/numpy/core/_methods.py:211: RuntimeWarning: invalid value encountered in reduce\n",
      "  arrmean = umr_sum(arr, axis, dtype, keepdims=True, where=where)\n",
      "/opt/conda/lib/python3.8/site-packages/numpy/core/_methods.py:232: RuntimeWarning: overflow encountered in multiply\n",
      "  x = um.multiply(x, x, out=x)\n",
      "/opt/conda/lib/python3.8/site-packages/scipy/stats/stats.py:1086: RuntimeWarning: overflow encountered in square\n",
      "  s = a_zero_mean**2\n",
      "/opt/conda/lib/python3.8/site-packages/scipy/stats/stats.py:1090: RuntimeWarning: overflow encountered in square\n",
      "  s = s**2\n",
      "/opt/conda/lib/python3.8/site-packages/scipy/stats/stats.py:1092: RuntimeWarning: overflow encountered in multiply\n",
      "  s *= a_zero_mean\n",
      "/opt/conda/lib/python3.8/site-packages/scipy/stats/stats.py:1234: RuntimeWarning: overflow encountered in power\n",
      "  lambda m2, m3: m3 / m2**1.5,\n",
      "/opt/conda/lib/python3.8/site-packages/numpy/lib/function_base.py:2642: RuntimeWarning: invalid value encountered in true_divide\n",
      "  c /= stddev[:, None]\n",
      "/opt/conda/lib/python3.8/site-packages/numpy/lib/function_base.py:2643: RuntimeWarning: invalid value encountered in true_divide\n",
      "  c /= stddev[None, :]\n",
      "/opt/conda/lib/python3.8/site-packages/numpy/lib/function_base.py:2487: RuntimeWarning: invalid value encountered in subtract\n",
      "  X -= avg[:, None]\n"
     ]
    },
    {
     "data": {
      "application/vnd.jupyter.widget-view+json": {
       "model_id": "b7c2f259ede846f7b902d926c4763e9a",
       "version_major": 2,
       "version_minor": 0
      },
      "text/plain": [
       "Running 3000 simulations in 3000 batches.:   0%|          | 0/3000 [00:00<?, ?it/s]"
      ]
     },
     "metadata": {},
     "output_type": "display_data"
    },
    {
     "name": "stdout",
     "output_type": "stream",
     "text": [
      "WARNING  Found 558 NaN simulations and 520 Inf simulations. They will be excluded from training.\n"
     ]
    },
    {
     "name": "stderr",
     "output_type": "stream",
     "text": [
      "/opt/conda/lib/python3.8/site-packages/sbi-0.17.0-py3.8.egg/sbi/neural_nets/flow.py:108: UserWarning: In one-dimensional output space, this flow is limited to Gaussians\n",
      "  warn(f\"In one-dimensional output space, this flow is limited to Gaussians\")\n"
     ]
    },
    {
     "name": "stdout",
     "output_type": "stream",
     "text": [
      "Neural network successfully converged after 68 epochs.\n"
     ]
    },
    {
     "data": {
      "text/plain": [
       "DirectPosterior(\n",
       "               method_family=snpe,\n",
       "               net=<a Flow, see `.net` for details>,\n",
       "               prior=BoxUniform(Uniform(low: tensor([1.5000]), high: tensor([3.2000])), 1),\n",
       "               x_shape=torch.Size([1, 1404]))\n",
       "               "
      ]
     },
     "execution_count": 8,
     "metadata": {},
     "output_type": "execute_result"
    }
   ],
   "source": [
    "print(\"Sbi inference\")\n",
    "tvb_inference.sbi_infer()"
   ]
  },
  {
   "cell_type": "code",
   "execution_count": 9,
   "id": "3d78caad-a1d3-4fc5-af05-adbad2ac5238",
   "metadata": {},
   "outputs": [
    {
     "name": "stdout",
     "output_type": "stream",
     "text": [
      "Run observed simulation\n"
     ]
    }
   ],
   "source": [
    "print(\"Run observed simulation\")\n",
    "BOLD_obs = tvb_inference.run_sim(G)"
   ]
  },
  {
   "cell_type": "code",
   "execution_count": 10,
   "id": "d044e7b6-7b5f-4f77-bc67-e96c863d7e27",
   "metadata": {},
   "outputs": [
    {
     "name": "stdout",
     "output_type": "stream",
     "text": [
      "Posterior Distribution\n",
      "FC_Corr\n"
     ]
    },
    {
     "name": "stderr",
     "output_type": "stream",
     "text": [
      "/opt/conda/lib/python3.8/site-packages/sbi-0.17.0-py3.8.egg/sbi/inference/posteriors/direct_posterior.py:333: UserWarning: You set `sample_with_mcmc=True`. This is deprecated since `sbi v0.17.0` and will lead to an error in future versions. Please use `sample_with='mcmc'` instead.\n",
      "  warn(\n",
      "Tuning bracket width...: 100%|██████████| 50/50 [00:02<00:00, 19.20it/s]\n",
      "Generating samples: 100%|██████████| 20/20 [00:04<00:00,  4.18it/s]\n",
      "Generating samples: 100%|██████████| 1000/1000 [03:49<00:00,  4.36it/s]\n"
     ]
    },
    {
     "name": "stdout",
     "output_type": "stream",
     "text": [
      "Plot G posterior\n"
     ]
    },
    {
     "data": {
      "image/png": "[encoded data removed]",
      "text/plain": [
       "<Figure size 288x288 with 1 Axes>"
      ]
     },
     "metadata": {
      "needs_background": "light"
     },
     "output_type": "display_data"
    }
   ],
   "source": [
    "print(\"Posterior Distribution\")\n",
    "found_value = tvb_inference.posterior_distribution(BOLD_obs, G, True)"
   ]
  },
  {
   "cell_type": "code",
   "execution_count": 11,
   "id": "3cf4b435-02de-4ef5-ad2c-260b73280b00",
   "metadata": {},
   "outputs": [
    {
     "name": "stdout",
     "output_type": "stream",
     "text": [
      "G value found: 2.454610586166382\n"
     ]
    }
   ],
   "source": [
    "print(\"G value found: {}\".format(found_value))"
   ]
  },
  {
   "cell_type": "code",
   "execution_count": 12,
   "id": "a4604594-936d-489f-a602-e830f295c728",
   "metadata": {},
   "outputs": [
    {
     "data": {
      "text/plain": [
       "(array([[2.6149907],\n",
       "        [2.2797544],\n",
       "        [3.000496 ],\n",
       "        ...,\n",
       "        [3.142301 ],\n",
       "        [1.7531784],\n",
       "        [2.9578881]], dtype=float32),\n",
       " array([[        nan,         nan,         nan, ...,         nan,\n",
       "                 nan,         nan],\n",
       "        [ 0.11692659,  0.11560603,  0.11736979, ...,  0.12669663,\n",
       "          0.1374433 , -0.0015202 ],\n",
       "        [        inf,         inf,         inf, ...,         nan,\n",
       "                 nan,         nan],\n",
       "        ...,\n",
       "        [        inf,         inf,         inf, ...,         nan,\n",
       "                 nan,         nan],\n",
       "        [ 0.11292125,  0.11289614,  0.11480594, ...,  0.06185083,\n",
       "          0.12965645,  0.00160264],\n",
       "        [        inf,         inf,         inf, ...,         nan,\n",
       "                 nan,         nan]], dtype=float32))"
      ]
     },
     "execution_count": 12,
     "metadata": {},
     "output_type": "execute_result"
    }
   ],
   "source": [
    "loaded_simulations = np.load(tvb_inference.sim_results_path)\n",
    "theta_sim = loaded_simulations['theta']\n",
    "x_sim = loaded_simulations['x']\n",
    "theta_sim, x_sim"
   ]
  },
  {
   "cell_type": "code",
   "execution_count": 16,
   "id": "bf28a97a-f618-447a-9200-7934f6ea2fab",
   "metadata": {},
   "outputs": [
    {
     "name": "stdout",
     "output_type": "stream",
     "text": [
      "WARNING  Found 558 NaN simulations and 520 Inf simulations. They will be excluded from training.\n"
     ]
    },
    {
     "name": "stderr",
     "output_type": "stream",
     "text": [
      "/opt/conda/lib/python3.8/site-packages/sbi-0.17.0-py3.8.egg/sbi/neural_nets/flow.py:108: UserWarning: In one-dimensional output space, this flow is limited to Gaussians\n",
      "  warn(f\"In one-dimensional output space, this flow is limited to Gaussians\")\n"
     ]
    },
    {
     "name": "stdout",
     "output_type": "stream",
     "text": [
      "Neural network successfully converged after 52 epochs.\n"
     ]
    },
    {
     "data": {
      "text/plain": [
       "DirectPosterior(\n",
       "               method_family=snpe,\n",
       "               net=<a Flow, see `.net` for details>,\n",
       "               prior=BoxUniform(Uniform(low: tensor([1.5000]), high: tensor([3.2000])), 1),\n",
       "               x_shape=torch.Size([1, 1404]))\n",
       "               "
      ]
     },
     "execution_count": 16,
     "metadata": {},
     "output_type": "execute_result"
    }
   ],
   "source": [
    "import torch\n",
    "# Train network\n",
    "tvb_inference.train_network(torch.as_tensor(theta_sim), torch.as_tensor(x_sim))"
   ]
  },
  {
   "cell_type": "code",
   "execution_count": 17,
   "id": "074af88f-d5f4-47a2-863a-600ffce46b5b",
   "metadata": {},
   "outputs": [
    {
     "name": "stdout",
     "output_type": "stream",
     "text": [
      "Run observed simulation\n"
     ]
    }
   ],
   "source": [
    "print(\"Run observed simulation\")\n",
    "G=2.0\n",
    "BOLD_obs = tvb_inference.run_sim(G)"
   ]
  },
  {
   "cell_type": "code",
   "execution_count": 18,
   "id": "d2780d0a-c9b2-4f36-b759-6002f04046e6",
   "metadata": {},
   "outputs": [
    {
     "name": "stderr",
     "output_type": "stream",
     "text": [
      "/opt/conda/lib/python3.8/site-packages/sbi-0.17.0-py3.8.egg/sbi/inference/posteriors/direct_posterior.py:333: UserWarning: You set `sample_with_mcmc=True`. This is deprecated since `sbi v0.17.0` and will lead to an error in future versions. Please use `sample_with='mcmc'` instead.\n",
      "  warn(\n",
      "Tuning bracket width...:   0%|          | 0/50 [00:00<?, ?it/s]"
     ]
    },
    {
     "name": "stdout",
     "output_type": "stream",
     "text": [
      "Posterior Distribution\n",
      "FC_Corr\n"
     ]
    },
    {
     "name": "stderr",
     "output_type": "stream",
     "text": [
      "Tuning bracket width...: 100%|██████████| 50/50 [01:29<00:00,  1.79s/it] \n",
      "Generating samples: 100%|██████████| 20/20 [00:06<00:00,  3.05it/s]\n",
      "Generating samples: 100%|██████████| 1000/1000 [05:31<00:00,  3.02it/s]"
     ]
    },
    {
     "name": "stdout",
     "output_type": "stream",
     "text": [
      "Plot G posterior\n"
     ]
    },
    {
     "name": "stderr",
     "output_type": "stream",
     "text": [
      "\n"
     ]
    },
    {
     "data": {
      "image/png": "[encoded data removed]",
      "text/plain": [
       "<Figure size 288x288 with 1 Axes>"
      ]
     },
     "metadata": {
      "needs_background": "light"
     },
     "output_type": "display_data"
    }
   ],
   "source": [
    "print(\"Posterior Distribution\")\n",
    "found_value = tvb_inference.posterior_distribution(BOLD_obs, G, True)"
   ]
  },
  {
   "cell_type": "code",
   "execution_count": 19,
   "id": "187f665b-ce0b-4498-83a1-48857398dc31",
   "metadata": {},
   "outputs": [
    {
     "name": "stdout",
     "output_type": "stream",
     "text": [
      "G value found: 2.0037059783935547\n"
     ]
    }
   ],
   "source": [
    "print(\"G value found: {}\".format(found_value))"
   ]
  },
  {
   "cell_type": "code",
   "execution_count": 24,
   "id": "32e43d3e-3a55-4f1f-b432-c29d3ff2bc38",
   "metadata": {},
   "outputs": [],
   "source": [
    "#Try with a different TS with different simulations params.\n",
    "\n",
    "#\n",
    "# Simulation setup\n",
    "#\n",
    "dt = 0.05\n",
    "nsigma = 0.02\n",
    "seed = 42\n",
    "sim_len = 30e3\n",
    "G = 3\n",
    "BOLD_TR = 2250\n",
    "tvb_inference2 = TvbInference('results-vbc-test2', num_simulations=3000, num_workers=40)"
   ]
  },
  {
   "cell_type": "code",
   "execution_count": 25,
   "id": "dbd4ca54-3c0d-4e43-bc2a-4f3bf2466a37",
   "metadata": {},
   "outputs": [
    {
     "name": "stdout",
     "output_type": "stream",
     "text": [
      "Simulation setup\n"
     ]
    }
   ],
   "source": [
    "print(\"Simulation setup\")\n",
    "tvb_inference2.simulation_setup(weights, sim_len, nsigma, BOLD_TR, dt, seed)"
   ]
  },
  {
   "cell_type": "code",
   "execution_count": 26,
   "id": "89775d5c-9b6a-4d90-873d-ae3f0f0eaf68",
   "metadata": {},
   "outputs": [],
   "source": [
    "BOLD_obs2 = tvb_inference2.run_sim(G)"
   ]
  },
  {
   "cell_type": "code",
   "execution_count": 31,
   "id": "32f772b8-05a5-4b07-8053-dfe885e08fca",
   "metadata": {},
   "outputs": [
    {
     "name": "stderr",
     "output_type": "stream",
     "text": [
      "/opt/conda/lib/python3.8/site-packages/numpy/core/_methods.py:178: RuntimeWarning: invalid value encountered in reduce\n",
      "  ret = umr_sum(arr, axis, dtype, out, keepdims, where=where)\n",
      "/opt/conda/lib/python3.8/site-packages/numpy/core/_methods.py:211: RuntimeWarning: invalid value encountered in reduce\n",
      "  arrmean = umr_sum(arr, axis, dtype, keepdims=True, where=where)\n",
      "/opt/conda/lib/python3.8/site-packages/numpy/core/_methods.py:232: RuntimeWarning: overflow encountered in multiply\n",
      "  x = um.multiply(x, x, out=x)\n",
      "/opt/conda/lib/python3.8/site-packages/scipy/stats/stats.py:1086: RuntimeWarning: overflow encountered in square\n",
      "  s = a_zero_mean**2\n",
      "/opt/conda/lib/python3.8/site-packages/scipy/stats/stats.py:1090: RuntimeWarning: overflow encountered in square\n",
      "  s = s**2\n",
      "/opt/conda/lib/python3.8/site-packages/numpy/lib/function_base.py:2642: RuntimeWarning: invalid value encountered in true_divide\n",
      "  c /= stddev[:, None]\n",
      "/opt/conda/lib/python3.8/site-packages/numpy/lib/function_base.py:2643: RuntimeWarning: invalid value encountered in true_divide\n",
      "  c /= stddev[None, :]\n",
      "/opt/conda/lib/python3.8/site-packages/numpy/lib/function_base.py:2487: RuntimeWarning: invalid value encountered in subtract\n",
      "  X -= avg[:, None]\n"
     ]
    },
    {
     "name": "stdout",
     "output_type": "stream",
     "text": [
      "FC_Corr\n"
     ]
    },
    {
     "name": "stderr",
     "output_type": "stream",
     "text": [
      "Tuning bracket width...: 100%|██████████| 50/50 [00:00<00:00, 78.04it/s]\n",
      "Generating samples: 100%|██████████| 20/20 [00:02<00:00,  8.21it/s]\n",
      "Generating samples: 100%|██████████| 1000/1000 [02:04<00:00,  8.05it/s]"
     ]
    },
    {
     "name": "stdout",
     "output_type": "stream",
     "text": [
      "Plot G posterior\n"
     ]
    },
    {
     "name": "stderr",
     "output_type": "stream",
     "text": [
      "\n"
     ]
    },
    {
     "data": {
      "image/png": "[encoded data removed]",
      "text/plain": [
       "<Figure size 288x288 with 1 Axes>"
      ]
     },
     "metadata": {
      "needs_background": "light"
     },
     "output_type": "display_data"
    },
    {
     "data": {
      "text/plain": [
       "3.167228"
      ]
     },
     "execution_count": 31,
     "metadata": {},
     "output_type": "execute_result"
    }
   ],
   "source": [
    "tvb_inference.trained = True\n",
    "found_value = tvb_inference.posterior_distribution(BOLD_obs2, G, True)\n",
    "found_value"
   ]
  }
 ],
 "metadata": {
  "kernelspec": {
   "display_name": "Python 3",
   "language": "python",
   "name": "python3"
  },
  "language_info": {
   "codemirror_mode": {
    "name": "ipython",
    "version": 3
   },
   "file_extension": ".py",
   "mimetype": "text/x-python",
   "name": "python",
   "nbconvert_exporter": "python",
   "pygments_lexer": "ipython3",
   "version": "3.8.8"
  }
 },
 "nbformat": 4,
 "nbformat_minor": 5
}
