{
 "cells": [
  {
   "cell_type": "code",
   "execution_count": 1,
   "id": "ecec7f1e-8413-40f2-9bb5-2b0d62251b6b",
   "metadata": {},
   "outputs": [
    {
     "name": "stderr",
     "output_type": "stream",
     "text": [
      "/Users/pipeline/anaconda/anaconda3/envs/tvb-inversion/lib/python3.8/site-packages/tqdm-4.64.0-py3.8.egg/tqdm/auto.py:22: TqdmWarning: IProgress not found. Please update jupyter and ipywidgets. See https://ipywidgets.readthedocs.io/en/stable/user_install.html\n",
      "  from .autonotebook import tqdm as notebook_tqdm\n"
     ]
    },
    {
     "name": "stdout",
     "output_type": "stream",
     "text": [
      "2022-05-13 15:41:59,981 - INFO - tvb.storage.h5.encryption.data_encryption_handler - Cannot import syncrypto library.\n"
     ]
    }
   ],
   "source": [
    "import numpy as np\n",
    "import sbi_tvb\n",
    "from matplotlib import rcParams\n",
    "from sbi_tvb.inference import TvbInference\n",
    "from sbi_tvb.prior import Prior\n",
    "from tvb.simulator.lab import *"
   ]
  },
  {
   "cell_type": "code",
   "execution_count": 2,
   "id": "e5bb4508-e16b-4133-91f5-a3aef51c99f2",
   "metadata": {},
   "outputs": [],
   "source": [
    "rcParams['figure.figsize'] = 15, 6\n"
   ]
  },
  {
   "cell_type": "code",
   "execution_count": 3,
   "id": "5115ca9c-ae30-4895-ba8a-5f3dc9647e14",
   "metadata": {},
   "outputs": [],
   "source": [
    "#\n",
    "# Simulation setup\n",
    "#\n",
    "dt = 0.005\n",
    "nsigma = 0.035\n",
    "seed = 42\n",
    "sim_len = 30e3\n",
    "G = 2.45\n",
    "BOLD_TR = 2250"
   ]
  },
  {
   "cell_type": "code",
   "execution_count": 4,
   "id": "2ef00446-367b-44d4-b59f-2764137f9244",
   "metadata": {},
   "outputs": [],
   "source": [
    "# Define connectivity\n",
    "sbi_tvb_path = os.path.dirname(os.path.dirname(sbi_tvb.__file__))\n",
    "weights = np.loadtxt(os.path.join(sbi_tvb_path, 'data_input_files', 'SC_Schaefer7NW100p_nolog10.txt'))"
   ]
  },
  {
   "cell_type": "code",
   "execution_count": 5,
   "id": "52eebe86-4337-4cc0-9c3f-def872751ee4",
   "metadata": {},
   "outputs": [],
   "source": [
    "def build_simulator():\n",
    "    sbi_tvb_path = os.path.dirname(os.path.dirname(sbi_tvb.__file__))\n",
    "    weights = np.loadtxt(os.path.join(sbi_tvb_path, 'data_input_files', 'SC_Schaefer7NW100p_nolog10.txt'))\n",
    "\n",
    "    model = models.MontbrioPazoRoxin(\n",
    "        eta=np.r_[-4.6],\n",
    "        J=np.r_[14.5],\n",
    "        Delta=np.r_[0.7],\n",
    "        tau=np.r_[1],\n",
    "    )\n",
    "\n",
    "    magic_number = 124538.470647693\n",
    "    weights_orig = weights / magic_number\n",
    "    conn = connectivity.Connectivity(\n",
    "        weights=weights_orig,\n",
    "        region_labels=np.array(np.zeros(np.shape(weights_orig)[0]), dtype='<U128'),\n",
    "        tract_lengths=np.zeros(np.shape(weights_orig)),\n",
    "        areas=np.zeros(np.shape(weights_orig)[0]),\n",
    "        speed=np.array(np.Inf, dtype=float),\n",
    "        centres=np.zeros(np.shape(weights_orig)[0]))  # default 76 regions\n",
    "\n",
    "    integrator = integrators.HeunStochastic(\n",
    "        dt=0.005,\n",
    "        noise=noise.Additive(\n",
    "            nsig=np.r_[0.035, 0.035 * 2],\n",
    "            noise_seed=42\n",
    "        )\n",
    "    )\n",
    "\n",
    "    _monitors = [monitors.TemporalAverage(period=0.1)]\n",
    "\n",
    "    cond_speed = np.Inf\n",
    "\n",
    "    sim = simulator.Simulator(model=model,\n",
    "                              connectivity=conn,\n",
    "                              coupling=coupling.Scaling(\n",
    "                                  a=np.r_[2.45]\n",
    "                              ),\n",
    "                              conduction_speed=cond_speed,\n",
    "                              integrator=integrator,\n",
    "                              monitors=_monitors,\n",
    "                              simulation_length=30e3\n",
    "                              )\n",
    "    return sim\n"
   ]
  },
  {
   "cell_type": "code",
   "execution_count": 6,
   "id": "ed2738fe-bea8-4b58-976d-753ae5014d29",
   "metadata": {},
   "outputs": [
    {
     "name": "stdout",
     "output_type": "stream",
     "text": [
      "Build TvbInference object\n"
     ]
    }
   ],
   "source": [
    "sim = build_simulator()\n",
    "print(\"Build TvbInference object\")\n",
    "tvb_inference = TvbInference(sim=sim, priors=[Prior('coupling.a', 1.5, 3.2)])"
   ]
  },
  {
   "cell_type": "code",
   "execution_count": 7,
   "id": "f28e6cf9-7b16-406d-8a5d-43ab7a80b3c7",
   "metadata": {},
   "outputs": [
    {
     "name": "stdout",
     "output_type": "stream",
     "text": [
      "Sample priors\n",
      "   INFO  White noise configured with dt=0.005\n",
      "FC_Corr\n",
      "   INFO  White noise configured with dt=0.005\n",
      "FC_Corr\n"
     ]
    },
    {
     "name": "stderr",
     "output_type": "stream",
     "text": [
      "Running 3 simulations.:   0%|                                                                                                   | 0/3 [00:00<?, ?it/s]"
     ]
    },
    {
     "name": "stdout",
     "output_type": "stream",
     "text": [
      "Using params: [1.7929152]\n",
      "   INFO  White noise configured with dt=0.005\n"
     ]
    },
    {
     "name": "stderr",
     "output_type": "stream",
     "text": [
      "Running 3 simulations.:  33%|██████████████████████████████                                                            | 1/3 [02:49<05:39, 169.73s/it]"
     ]
    },
    {
     "name": "stdout",
     "output_type": "stream",
     "text": [
      "FC_Corr\n",
      "Using params: [1.7582259]\n",
      "   INFO  White noise configured with dt=0.005\n"
     ]
    },
    {
     "name": "stderr",
     "output_type": "stream",
     "text": [
      "Running 3 simulations.:  67%|████████████████████████████████████████████████████████████                              | 2/3 [05:38<02:49, 169.32s/it]"
     ]
    },
    {
     "name": "stdout",
     "output_type": "stream",
     "text": [
      "FC_Corr\n",
      "Using params: [1.6520705]\n",
      "   INFO  White noise configured with dt=0.005\n"
     ]
    },
    {
     "name": "stderr",
     "output_type": "stream",
     "text": [
      "Running 3 simulations.: 100%|██████████████████████████████████████████████████████████████████████████████████████████| 3/3 [08:25<00:00, 168.40s/it]"
     ]
    },
    {
     "name": "stdout",
     "output_type": "stream",
     "text": [
      "FC_Corr\n"
     ]
    },
    {
     "name": "stderr",
     "output_type": "stream",
     "text": [
      "\n"
     ]
    },
    {
     "data": {
      "text/plain": [
       "(tensor([[1.7929],\n",
       "         [1.7582],\n",
       "         [1.6521]]),\n",
       " tensor([[0.1127, 0.1126, 0.1149,  ..., 0.0647, 0.1318, 0.0016],\n",
       "         [0.1127, 0.1135, 0.1148,  ..., 0.0630, 0.1327, 0.0021],\n",
       "         [0.1128, 0.1125, 0.1147,  ..., 0.0608, 0.1317, 0.0018]]))"
      ]
     },
     "execution_count": 7,
     "metadata": {},
     "output_type": "execute_result"
    }
   ],
   "source": [
    "print(\"Sample priors\")\n",
    "tvb_inference.sample_priors(num_simulations=3, num_workers=1)"
   ]
  },
  {
   "cell_type": "code",
   "execution_count": 8,
   "id": "f300b494-7f92-45cd-995f-1dae2ec5aaa0",
   "metadata": {},
   "outputs": [
    {
     "name": "stdout",
     "output_type": "stream",
     "text": [
      "Train\n",
      "   INFO  White noise configured with dt=0.005\n",
      "FC_Corr\n",
      "   INFO  White noise configured with dt=0.005\n",
      "FC_Corr\n"
     ]
    },
    {
     "name": "stderr",
     "output_type": "stream",
     "text": [
      "/Users/pipeline/anaconda/anaconda3/envs/tvb-inversion/lib/python3.8/site-packages/sbi/neural_nets/flow.py:108: UserWarning: In one-dimensional output space, this flow is limited to Gaussians\n",
      "  warn(f\"In one-dimensional output space, this flow is limited to Gaussians\")\n"
     ]
    },
    {
     "name": "stdout",
     "output_type": "stream",
     "text": [
      "Neural network successfully converged after 37 epochs.\n"
     ]
    },
    {
     "data": {
      "text/plain": [
       "DirectPosterior(\n",
       "               method_family=snpe,\n",
       "               net=<a Flow, see `.net` for details>,\n",
       "               prior=BoxUniform(Uniform(low: tensor([1.5000]), high: tensor([3.2000])), 1),\n",
       "               x_shape=torch.Size([1, 1404]))\n",
       "               "
      ]
     },
     "execution_count": 8,
     "metadata": {},
     "output_type": "execute_result"
    }
   ],
   "source": [
    "print(\"Train\")\n",
    "tvb_inference.train()"
   ]
  },
  {
   "cell_type": "code",
   "execution_count": 9,
   "id": "3d78caad-a1d3-4fc5-af05-adbad2ac5238",
   "metadata": {},
   "outputs": [
    {
     "name": "stdout",
     "output_type": "stream",
     "text": [
      "Run observed simulation\n",
      "Using params: [2.2]\n",
      "   INFO  White noise configured with dt=0.005\n"
     ]
    }
   ],
   "source": [
    "print(\"Run observed simulation\")\n",
    "data = tvb_inference.run_sim(2.2 * np.ones(1))"
   ]
  },
  {
   "cell_type": "code",
   "execution_count": 10,
   "id": "d044e7b6-7b5f-4f77-bc67-e96c863d7e27",
   "metadata": {},
   "outputs": [
    {
     "name": "stdout",
     "output_type": "stream",
     "text": [
      "Run Posterior\n",
      "FC_Corr\n"
     ]
    },
    {
     "name": "stderr",
     "output_type": "stream",
     "text": [
      "Tuning bracket width...: 100%|████████████████████████████████████████████████████████████████████████████████████████| 50/50 [00:04<00:00, 11.16it/s]\n",
      "Generating samples: 100%|█████████████████████████████████████████████████████████████████████████████████████████████| 20/20 [00:01<00:00, 15.54it/s]\n",
      "Generating samples: 100%|█████████████████████████████████████████████████████████████████████████████████████████| 1000/1000 [01:05<00:00, 15.37it/s]\n"
     ]
    }
   ],
   "source": [
    "print(\"Run Posterior\")\n",
    "post_samples = tvb_inference.posterior(data=data)"
   ]
  },
  {
   "cell_type": "code",
   "execution_count": 11,
   "id": "662b35d3-7634-4afc-b9ce-5c609475f8a3",
   "metadata": {},
   "outputs": [
    {
     "name": "stdout",
     "output_type": "stream",
     "text": [
      "1.7462754\n"
     ]
    }
   ],
   "source": [
    "print(post_samples.mean())"
   ]
  },
  {
   "cell_type": "code",
   "execution_count": 12,
   "id": "3cf4b435-02de-4ef5-ad2c-260b73280b00",
   "metadata": {},
   "outputs": [
    {
     "name": "stdout",
     "output_type": "stream",
     "text": [
      "G value found: 2.3394737243652344\n"
     ]
    }
   ],
   "source": [
    "# print(\"G value found: {}\".format(found_value))"
   ]
  },
  {
   "cell_type": "code",
   "execution_count": null,
   "id": "a4604594-936d-489f-a602-e830f295c728",
   "metadata": {},
   "outputs": [],
   "source": []
  }
 ],
 "metadata": {
  "kernelspec": {
   "display_name": "Python 3 (ipykernel)",
   "language": "python",
   "name": "python3"
  },
  "language_info": {
   "codemirror_mode": {
    "name": "ipython",
    "version": 3
   },
   "file_extension": ".py",
   "mimetype": "text/x-python",
   "name": "python",
   "nbconvert_exporter": "python",
   "pygments_lexer": "ipython3",
   "version": "3.8.13"
  }
 },
 "nbformat": 4,
 "nbformat_minor": 5
}
