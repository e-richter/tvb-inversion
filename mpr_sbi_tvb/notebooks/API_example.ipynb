{
 "cells": [
  {
   "cell_type": "code",
   "execution_count": null,
   "id": "51b7a850-feac-4a02-9323-9ab72baa3ad0",
   "metadata": {},
   "outputs": [],
   "source": [
    "# To be installed in EBRAINS Lab:\n",
    "# %pip install --quiet --upgrade pip\n",
    "# %pip install sbi==0.17.2\n",
    "# %pip install --quiet -e ./tvb-inversion/mpr_sbi_tvb\n",
    "# %pip install --quiet -e ./tvb-root/tvb_library\n",
    "# %pip install --quiet -e ./tvb-root/tvb_storage\n",
    "# %pip install --quiet -e ./tvb-root/tvb_framework"
   ]
  },
  {
   "cell_type": "code",
   "execution_count": 2,
   "id": "ecec7f1e-8413-40f2-9bb5-2b0d62251b6b",
   "metadata": {
    "tags": []
   },
   "outputs": [
    {
     "name": "stderr",
     "output_type": "stream",
     "text": [
      "/Users/pipeline/anaconda/anaconda3/envs/tvb-inversion/lib/python3.8/site-packages/tqdm-4.64.0-py3.8.egg/tqdm/auto.py:22: TqdmWarning: IProgress not found. Please update jupyter and ipywidgets. See https://ipywidgets.readthedocs.io/en/stable/user_install.html\n",
      "  from .autonotebook import tqdm as notebook_tqdm\n"
     ]
    },
    {
     "name": "stdout",
     "output_type": "stream",
     "text": [
      "   INFO  Cannot import syncrypto library.\n"
     ]
    }
   ],
   "source": [
    "import os\n",
    "import numpy as np\n",
    "from tvb.simulator.lab import *\n",
    "\n",
    "import sbi_tvb\n",
    "from sbi_tvb.inference import TvbInference, BackendEnum\n",
    "from sbi_tvb.prior import Prior\n",
    "from sbi_tvb.sampler.remote_sampler import UnicoreConfig"
   ]
  },
  {
   "cell_type": "code",
   "execution_count": 2,
   "id": "e5bb4508-e16b-4133-91f5-a3aef51c99f2",
   "metadata": {},
   "outputs": [],
   "source": [
    "sbi_tvb_path = os.path.dirname(os.path.dirname(sbi_tvb.__file__))\n",
    "weights = np.loadtxt(os.path.join(sbi_tvb_path, 'data_input_files', 'SC_Schaefer7NW100p_nolog10.txt'))\n",
    "\n",
    "model = models.MontbrioPazoRoxin(\n",
    "            eta=np.r_[-4.6],\n",
    "            J=np.r_[14.5],\n",
    "            Delta=np.r_[0.7],\n",
    "            tau=np.r_[1],)\n",
    "\n",
    "magic_number = 124538.470647693\n",
    "weights_orig = weights / magic_number\n",
    "conn = connectivity.Connectivity(\n",
    "            weights=weights_orig,\n",
    "            region_labels=np.array(np.zeros(np.shape(weights_orig)[0]), dtype='<U128'),\n",
    "            tract_lengths=np.zeros(np.shape(weights_orig)),\n",
    "            areas=np.zeros(np.shape(weights_orig)[0]),\n",
    "            speed=np.array(np.Inf, dtype=float),\n",
    "            centres=np.zeros(np.shape(weights_orig)[0]))  # default 76 regions\n",
    "\n",
    "integrator = integrators.HeunStochastic(\n",
    "            dt=0.005,\n",
    "            noise=noise.Additive(\n",
    "                nsig=np.r_[0.035, 0.035 * 2],\n",
    "                noise_seed=42))\n",
    "\n",
    "_monitors = [monitors.TemporalAverage(period=0.1)]\n",
    "\n",
    "cond_speed = np.Inf\n",
    "\n",
    "sim = simulator.Simulator(model=model,\n",
    "            connectivity=conn,\n",
    "            coupling=coupling.Linear(\n",
    "                a=np.r_[2.45]),\n",
    "            conduction_speed=cond_speed,\n",
    "            integrator=integrator,\n",
    "            monitors=_monitors,\n",
    "            simulation_length=30e3)"
   ]
  },
  {
   "cell_type": "code",
   "execution_count": 3,
   "id": "5115ca9c-ae30-4895-ba8a-5f3dc9647e14",
   "metadata": {},
   "outputs": [],
   "source": [
    "output_dir = os.path.join(os.getcwd(), 'results')\n",
    "tvb_inference = TvbInference(sim=sim,\n",
    "                             priors=[Prior('coupling.a', 1.5, 3.2)],\n",
    "                             output_dir=output_dir)"
   ]
  },
  {
   "cell_type": "code",
   "execution_count": 4,
   "id": "a7dadaa2-f0bb-40c3-bdd7-dfb9709e79d8",
   "metadata": {},
   "outputs": [
    {
     "name": "stdout",
     "output_type": "stream",
     "text": [
      "29-08-2022 01:13:10 - INFO - sbi_tvb.inference - Sampling priors remotely on DAINT-CSCS...\n",
      "29-08-2022 01:13:10 - INFO - sbi_tvb.inference - Using dir /mnt/user/results/simulator-9uoyy4dc to store simulator with gid 8e9830cc-08bb-45e7-b7da-eb4659a47800\n",
      "29-08-2022 01:13:10 - INFO - sbi_tvb.sampler.remote_sampler - Gathering files for stage in...\n",
      "29-08-2022 01:13:10 - INFO - sbi_tvb.sampler.remote_sampler - Connecting to DAINT-CSCS via PyUnicore...\n",
      "29-08-2022 01:13:14 - INFO - sbi_tvb.sampler.remote_sampler - Mount point on HPC for job is: /scratch/snx3000/unicore/FILESPACE/c5fd8bb3-8cb0-4491-a29d-050b860cd037/\n",
      "29-08-2022 01:13:14 - INFO - sbi_tvb.sampler.remote_sampler - Starting to monitor job...\n",
      "29-08-2022 01:13:14 - INFO - sbi_tvb.sampler.remote_sampler - Job has status: QUEUED\n",
      "29-08-2022 01:23:15 - INFO - sbi_tvb.sampler.remote_sampler - Job has status: RUNNING\n",
      "29-08-2022 01:33:15 - INFO - sbi_tvb.sampler.remote_sampler - Job has status: RUNNING\n",
      "29-08-2022 01:43:15 - INFO - sbi_tvb.sampler.remote_sampler - Trying to stage out the results...\n",
      "29-08-2022 01:43:21 - INFO - sbi_tvb.sampler.remote_sampler - Downloaded priors sampling results as /mnt/user/results/simulator-9uoyy4dc/inference_theta_jn_sim.npz\n",
      "29-08-2022 01:43:21 - INFO - sbi_tvb.sampler.remote_sampler - Reading priors sampling results from /mnt/user/results/simulator-9uoyy4dc/inference_theta_jn_sim.npz...\n"
     ]
    }
   ],
   "source": [
    "unicore_config = UnicoreConfig(project='ich012', site='DAINT-CSCS')\n",
    "tvb_inference.sample_priors(num_simulations=10, num_workers=10,\n",
    "                            backend=BackendEnum.REMOTE,\n",
    "                            unicore_config=unicore_config)"
   ]
  },
  {
   "cell_type": "code",
   "execution_count": 5,
   "id": "a4604594-936d-489f-a602-e830f295c728",
   "metadata": {},
   "outputs": [
    {
     "name": "stdout",
     "output_type": "stream",
     "text": [
      "29-08-2022 01:50:09 - INFO - sbi_tvb.inference - Starting training with SNPE...\n",
      "29-08-2022 01:50:09 - INFO - sbi_tvb.inference - Launching simulation...\n",
      "29-08-2022 02:00:15 - INFO - sbi_tvb.inference - Finished simulation...\n",
      "29-08-2022 02:00:15 - INFO - sbi_tvb.features - Computing HIGHER_MOMENTS feature...\n",
      "29-08-2022 02:00:15 - INFO - sbi_tvb.features - Computing FC_CORR feature...\n",
      "29-08-2022 02:00:15 - INFO - sbi_tvb.features - Computing FCD_CORR feature...\n",
      "29-08-2022 02:00:16 - INFO - sbi_tvb.inference - Launching simulation...\n",
      "29-08-2022 02:10:18 - INFO - sbi_tvb.inference - Finished simulation...\n",
      "29-08-2022 02:10:18 - INFO - sbi_tvb.features - Computing HIGHER_MOMENTS feature...\n",
      "29-08-2022 02:10:18 - INFO - sbi_tvb.features - Computing FC_CORR feature...\n",
      "29-08-2022 02:10:18 - INFO - sbi_tvb.features - Computing FCD_CORR feature...\n",
      "29-08-2022 02:10:18 - WARNING - root - Found 3 NaN simulations and 3 Inf simulations. They will be excluded from training.\n"
     ]
    },
    {
     "name": "stderr",
     "output_type": "stream",
     "text": [
      "/opt/app-root/src/.local/lib/python3.8/site-packages/sbi/neural_nets/flow.py:108: UserWarning: In one-dimensional output space, this flow is limited to Gaussians\n",
      "  warn(f\"In one-dimensional output space, this flow is limited to Gaussians\")\n"
     ]
    },
    {
     "name": "stdout",
     "output_type": "stream",
     "text": [
      "Neural network successfully converged after 60 epochs.\n",
      "29-08-2022 02:10:49 - INFO - sbi_tvb.inference - Finished training with SNPE...\n"
     ]
    },
    {
     "data": {
      "text/plain": [
       "DirectPosterior(\n",
       "               method_family=snpe,\n",
       "               net=<a Flow, see `.net` for details>,\n",
       "               prior=BoxUniform(Uniform(low: tensor([1.5000]), high: tensor([3.2000])), 1),\n",
       "               x_shape=torch.Size([1, 1404]))\n",
       "               "
      ]
     },
     "execution_count": 5,
     "metadata": {},
     "output_type": "execute_result"
    }
   ],
   "source": [
    "tvb_inference.train()"
   ]
  },
  {
   "cell_type": "code",
   "execution_count": 6,
   "id": "043ea5e0-e7a4-4e56-a6ce-8bbe4bad91e3",
   "metadata": {},
   "outputs": [
    {
     "name": "stdout",
     "output_type": "stream",
     "text": [
      "29-08-2022 02:10:49 - INFO - sbi_tvb.inference - Launching simulation...\n",
      "29-08-2022 02:10:49 - INFO - sbi_tvb.inference - Using params: [2.2]\n",
      "29-08-2022 02:20:56 - INFO - sbi_tvb.inference - Finished simulation...\n"
     ]
    }
   ],
   "source": [
    "data = tvb_inference.run_sim(2.2 * np.ones(1))"
   ]
  },
  {
   "cell_type": "code",
   "execution_count": 7,
   "id": "4b5b149a-e819-4928-ad8b-db8674e9431a",
   "metadata": {},
   "outputs": [
    {
     "name": "stdout",
     "output_type": "stream",
     "text": [
      "29-08-2022 02:20:56 - INFO - sbi_tvb.inference - Starting inference...\n",
      "29-08-2022 02:20:56 - INFO - sbi_tvb.features - Computing HIGHER_MOMENTS feature...\n",
      "29-08-2022 02:20:56 - INFO - sbi_tvb.features - Computing FC_CORR feature...\n",
      "29-08-2022 02:20:56 - INFO - sbi_tvb.features - Computing FCD_CORR feature...\n"
     ]
    },
    {
     "name": "stderr",
     "output_type": "stream",
     "text": [
      "Tuning bracket width...: 100%|██████████| 50/50 [00:21<00:00,  2.36it/s]\n",
      "Generating samples: 100%|██████████| 20/20 [00:40<00:00,  2.01s/it]\n",
      "Generating samples: 100%|██████████| 1000/1000 [17:17<00:00,  1.04s/it]"
     ]
    },
    {
     "name": "stdout",
     "output_type": "stream",
     "text": [
      "29-08-2022 02:39:15 - INFO - sbi_tvb.inference - Finished inference...\n",
      "29-08-2022 02:39:15 - INFO - sbi_tvb.inference - Saving posterior samples at /mnt/user/results/simulator-9uoyy4dc/posterior_samples_jn_sim.npy...\n",
      "29-08-2022 02:39:15 - INFO - sbi_tvb.inference - Posterior samples mean value is 1.9954379796981812\n"
     ]
    },
    {
     "name": "stderr",
     "output_type": "stream",
     "text": [
      "\n"
     ]
    }
   ],
   "source": [
    "post_samples = tvb_inference.posterior(data=data)"
   ]
  },
  {
   "cell_type": "code",
   "execution_count": 8,
   "id": "a6b710ef-11a7-402f-897a-7708e3f33efc",
   "metadata": {},
   "outputs": [
    {
     "name": "stdout",
     "output_type": "stream",
     "text": [
      "1.995438\n"
     ]
    }
   ],
   "source": [
    "print(post_samples.mean())"
   ]
  },
  {
   "cell_type": "code",
   "execution_count": null,
   "id": "d63a6779-b678-4546-b870-8653b001f69b",
   "metadata": {},
   "outputs": [],
   "source": []
  }
 ],
 "metadata": {
  "kernelspec": {
   "display_name": "Python 3 (ipykernel)",
   "language": "python",
   "name": "python3"
  },
  "language_info": {
   "codemirror_mode": {
    "name": "ipython",
    "version": 3
   },
   "file_extension": ".py",
   "mimetype": "text/x-python",
   "name": "python",
   "nbconvert_exporter": "python",
   "pygments_lexer": "ipython3",
   "version": "3.8.13"
  }
 },
 "nbformat": 4,
 "nbformat_minor": 5
}
